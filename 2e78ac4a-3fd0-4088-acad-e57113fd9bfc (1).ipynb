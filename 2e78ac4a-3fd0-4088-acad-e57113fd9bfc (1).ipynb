{
 "cells": [
  {
   "cell_type": "markdown",
   "metadata": {
    "deletable": false,
    "editable": false,
    "id": "E0vqbgi9ay0H"
   },
   "source": [
    "# Яндекс Музыка"
   ]
  },
  {
   "cell_type": "markdown",
   "metadata": {
    "deletable": false,
    "editable": false,
    "id": "VUC88oWjTJw2"
   },
   "source": [
    "Сравнение Москвы и Петербурга окружено мифами. Например:\n",
    " * Москва — мегаполис, подчинённый жёсткому ритму рабочей недели;\n",
    " * Петербург — культурная столица, со своими вкусами.\n",
    "\n",
    "На данных Яндекс Музыки вы сравните поведение пользователей двух столиц.\n",
    "\n",
    "**Цель исследования** — проверьте три гипотезы:\n",
    "1. Активность пользователей зависит от дня недели. Причём в Москве и Петербурге это проявляется по-разному.\n",
    "2. В понедельник утром в Москве преобладают одни жанры, а в Петербурге — другие. Так же и вечером пятницы преобладают разные жанры — в зависимости от города. \n",
    "3. Москва и Петербург предпочитают разные жанры музыки. В Москве чаще слушают поп-музыку, в Петербурге — русский рэп.\n",
    "\n",
    "**Ход исследования**\n",
    "\n",
    "Данные о поведении пользователей вы получите из файла `yandex_music_project.csv`. О качестве данных ничего не известно. Поэтому перед проверкой гипотез понадобится обзор данных. \n",
    "\n",
    "Вы проверите данные на ошибки и оцените их влияние на исследование. Затем, на этапе предобработки вы поищете возможность исправить самые критичные ошибки данных.\n",
    " \n",
    "Таким образом, исследование пройдёт в три этапа:\n",
    " 1. Обзор данных.\n",
    " 2. Предобработка данных.\n",
    " 3. Проверка гипотез.\n",
    "\n"
   ]
  },
  {
   "cell_type": "markdown",
   "metadata": {
    "deletable": false,
    "editable": false,
    "id": "Ml1hmfXC_Zcs"
   },
   "source": [
    "## Обзор данных\n",
    "\n",
    "Составьте первое представление о данных Яндекс Музыки.\n",
    "\n",
    "\n"
   ]
  },
  {
   "cell_type": "markdown",
   "metadata": {
    "deletable": false,
    "editable": false,
    "id": "57eAOGIz_Zcs",
    "tags": [
     "start_task"
    ]
   },
   "source": [
    "**Задание 1**\n",
    "\n",
    "Основной инструмент аналитика — `pandas`. Импортируйте эту библиотеку."
   ]
  },
  {
   "cell_type": "code",
   "execution_count": 1,
   "metadata": {
    "deletable": false,
    "id": "AXN7PHPN_Zcs"
   },
   "outputs": [],
   "source": [
    "import pandas as pd# импорт библиотеки pandas"
   ]
  },
  {
   "cell_type": "markdown",
   "metadata": {
    "deletable": false,
    "editable": false,
    "id": "SG23P8tt_Zcs",
    "tags": [
     "start_task"
    ]
   },
   "source": [
    "**Задание 2**\n",
    "\n",
    "Прочитайте файл `yandex_music_project.csv` из папки `/datasets` и сохраните его в переменной `df`:"
   ]
  },
  {
   "cell_type": "code",
   "execution_count": 2,
   "metadata": {
    "deletable": false,
    "id": "fFVu7vqh_Zct"
   },
   "outputs": [],
   "source": [
    "df = pd.read_csv(\"/datasets/yandex_music_project.csv\")# чтение файла с данными и сохранение в df"
   ]
  },
  {
   "cell_type": "markdown",
   "metadata": {
    "deletable": false,
    "editable": false,
    "id": "rDoOMd3uTqnZ",
    "tags": [
     "start_task"
    ]
   },
   "source": [
    "**Задание 3**\n",
    "\n",
    "\n",
    "Выведите на экран первые десять строк таблицы:"
   ]
  },
  {
   "cell_type": "code",
   "execution_count": 3,
   "metadata": {
    "deletable": false,
    "id": "oWTVX3gW_Zct"
   },
   "outputs": [
    {
     "name": "stdout",
     "output_type": "stream",
     "text": [
      "     userID                        Track            artist   genre  \\\n",
      "0  FFB692EC            Kamigata To Boots  The Mass Missile    rock   \n",
      "1  55204538  Delayed Because of Accident  Andreas Rönnberg    rock   \n",
      "2    20EC38            Funiculì funiculà       Mario Lanza     pop   \n",
      "3  A3DD03C9        Dragons in the Sunset        Fire + Ice    folk   \n",
      "4  E2DC1FAE                  Soul People        Space Echo   dance   \n",
      "5  842029A1                    Преданная         IMPERVTOR  rusrap   \n",
      "6  4CB90AA5                         True      Roman Messer   dance   \n",
      "7  F03E1C1F             Feeling This Way   Polina Griffith   dance   \n",
      "8  8FA1D3BE     И вновь продолжается бой               NaN  ruspop   \n",
      "9  E772D5C0                    Pessimist               NaN   dance   \n",
      "\n",
      "             City        time        Day  \n",
      "0  Saint-Petersburg  20:28:33  Wednesday  \n",
      "1            Moscow  14:07:09     Friday  \n",
      "2  Saint-Petersburg  20:58:07  Wednesday  \n",
      "3  Saint-Petersburg  08:37:09     Monday  \n",
      "4            Moscow  08:34:34     Monday  \n",
      "5  Saint-Petersburg  13:09:41     Friday  \n",
      "6            Moscow  13:00:07  Wednesday  \n",
      "7            Moscow  20:47:49  Wednesday  \n",
      "8            Moscow  09:17:40     Friday  \n",
      "9  Saint-Petersburg  21:20:49  Wednesday  \n"
     ]
    }
   ],
   "source": [
    "print(df.head(10))# получение первых 10 строк таблицы df"
   ]
  },
  {
   "cell_type": "markdown",
   "metadata": {
    "deletable": false,
    "editable": false,
    "id": "EO73Kwic_Zct",
    "tags": [
     "start_task"
    ]
   },
   "source": [
    "**Задание 4**\n",
    "\n",
    "\n",
    "Одной командой получить общую информацию о таблице c помощью метода `info()`:"
   ]
  },
  {
   "cell_type": "code",
   "execution_count": 4,
   "metadata": {
    "deletable": false,
    "id": "DSf2kIb-_Zct"
   },
   "outputs": [
    {
     "name": "stdout",
     "output_type": "stream",
     "text": [
      "<class 'pandas.core.frame.DataFrame'>\n",
      "RangeIndex: 65079 entries, 0 to 65078\n",
      "Data columns (total 7 columns):\n",
      " #   Column    Non-Null Count  Dtype \n",
      "---  ------    --------------  ----- \n",
      " 0     userID  65079 non-null  object\n",
      " 1   Track     63848 non-null  object\n",
      " 2   artist    57876 non-null  object\n",
      " 3   genre     63881 non-null  object\n",
      " 4     City    65079 non-null  object\n",
      " 5   time      65079 non-null  object\n",
      " 6   Day       65079 non-null  object\n",
      "dtypes: object(7)\n",
      "memory usage: 3.5+ MB\n"
     ]
    }
   ],
   "source": [
    "df.info()# получение общей информации о данных в таблице df"
   ]
  },
  {
   "cell_type": "markdown",
   "metadata": {
    "deletable": false,
    "editable": false,
    "id": "TaQ2Iwbr_Zct"
   },
   "source": [
    "Итак, в таблице семь столбцов. Тип данных во всех столбцах — `object`.\n",
    "\n",
    "Согласно документации к данным:\n",
    "* `userID` — идентификатор пользователя;\n",
    "* `Track` — название трека;  \n",
    "* `artist` — имя исполнителя;\n",
    "* `genre` — название жанра;\n",
    "* `City` — город пользователя;\n",
    "* `time` — время начала прослушивания;\n",
    "* `Day` — день недели.\n",
    "\n",
    "Количество значений в столбцах различается. Значит, в данных есть пропущенные значения."
   ]
  },
  {
   "cell_type": "markdown",
   "metadata": {
    "deletable": false,
    "editable": false,
    "id": "rAfziTBDmf2h",
    "tags": [
     "start_task"
    ]
   },
   "source": [
    "**Задание 5**\n",
    "\n",
    "**Вопрос со свободной формой ответа**\n",
    "\n",
    "В названиях колонок видны нарушения стиля:\n",
    "* Строчные буквы сочетаются с прописными.\n",
    "* Встречаются пробелы.\n",
    "\n",
    "Какое третье нарушение?"
   ]
  },
  {
   "cell_type": "code",
   "execution_count": 5,
   "metadata": {
    "id": "jD8EXEIvmf2h"
   },
   "outputs": [],
   "source": [
    "# используеться верблюжий стиль вместо змеинного:)"
   ]
  },
  {
   "cell_type": "markdown",
   "metadata": {
    "deletable": false,
    "editable": false,
    "id": "MCB6-dXG_Zct"
   },
   "source": [
    "**Выводы**\n",
    "\n",
    "В каждой строке таблицы — данные о прослушанном треке. Часть колонок описывает саму композицию: название, исполнителя и жанр. Остальные данные рассказывают о пользователе: из какого он города, когда он слушал музыку. \n",
    "\n",
    "Предварительно можно утверждать, что данных достаточно для проверки гипотез. Но встречаются пропуски в данных, а в названиях колонок — расхождения с хорошим стилем.\n",
    "\n",
    "Чтобы двигаться дальше, нужно устранить проблемы в данных."
   ]
  },
  {
   "cell_type": "markdown",
   "metadata": {
    "deletable": false,
    "editable": false,
    "id": "SjYF6Ub9_Zct"
   },
   "source": [
    "## Предобработка данных\n",
    "Исправьте стиль в заголовках столбцов, исключите пропуски. Затем проверьте данные на дубликаты."
   ]
  },
  {
   "cell_type": "markdown",
   "metadata": {
    "deletable": false,
    "editable": false,
    "id": "dIaKXr29_Zct",
    "tags": [
     "start_task"
    ]
   },
   "source": [
    "### Стиль заголовков\n",
    "\n",
    "**Задание 6**\n",
    "\n",
    "Выведите на экран названия столбцов:"
   ]
  },
  {
   "cell_type": "code",
   "execution_count": 6,
   "metadata": {
    "deletable": false,
    "id": "oKOTdF_Q_Zct"
   },
   "outputs": [
    {
     "name": "stdout",
     "output_type": "stream",
     "text": [
      "Index(['  userID', 'Track', 'artist', 'genre', '  City  ', 'time', 'Day'], dtype='object')\n"
     ]
    }
   ],
   "source": [
    "print(df.columns)# перечень названий столбцов таблицы df"
   ]
  },
  {
   "cell_type": "markdown",
   "metadata": {
    "deletable": false,
    "editable": false,
    "id": "zj5534cv_Zct",
    "tags": [
     "start_task"
    ]
   },
   "source": [
    "**Задание 7**\n",
    "\n",
    "\n",
    "Приведите названия в соответствие с хорошим стилем:\n",
    "* несколько слов в названии запишите в «змеином_регистре»,\n",
    "* все символы сделайте строчными,\n",
    "* устраните пробелы.\n",
    "\n",
    "Для этого переименуйте колонки так:\n",
    "* `'  userID'` → `'user_id'`;\n",
    "* `'Track'` → `'track'`;\n",
    "* `'  City  '` → `'city'`;\n",
    "* `'Day'` → `'day'`."
   ]
  },
  {
   "cell_type": "code",
   "execution_count": 7,
   "metadata": {
    "deletable": false,
    "id": "ISlFqs5y_Zct"
   },
   "outputs": [],
   "source": [
    "df = df.rename(columns = {'  userID' : 'user_id',\n",
    "               'Track' : 'track',\n",
    "               '  City  ' :  'city', \n",
    "               'Day' : 'day'})# переименование столбцов"
   ]
  },
  {
   "cell_type": "code",
   "execution_count": null,
   "metadata": {},
   "outputs": [],
   "source": []
  },
  {
   "cell_type": "markdown",
   "metadata": {
    "deletable": false,
    "editable": false,
    "id": "1dqbh00J_Zct",
    "tags": [
     "start_task"
    ]
   },
   "source": [
    "**Задание 8**\n",
    "\n",
    "\n",
    "Проверьте результат. Для этого ещё раз выведите на экран названия столбцов:"
   ]
  },
  {
   "cell_type": "code",
   "execution_count": 8,
   "metadata": {
    "deletable": false,
    "id": "d4NOAmTW_Zct"
   },
   "outputs": [
    {
     "name": "stdout",
     "output_type": "stream",
     "text": [
      "Index(['user_id', 'track', 'artist', 'genre', 'city', 'time', 'day'], dtype='object')\n"
     ]
    }
   ],
   "source": [
    "print(df.columns)# проверка результатов - перечень названий столбцов"
   ]
  },
  {
   "cell_type": "markdown",
   "metadata": {
    "deletable": false,
    "editable": false,
    "id": "5ISfbcfY_Zct",
    "tags": [
     "start_task"
    ]
   },
   "source": [
    "### Пропуски значений\n",
    "\n",
    "**Задание 9**\n",
    "\n",
    "Сначала посчитайте, сколько в таблице пропущенных значений. Для этого достаточно двух методов `pandas`:"
   ]
  },
  {
   "cell_type": "code",
   "execution_count": 9,
   "metadata": {
    "deletable": false,
    "id": "RskX29qr_Zct"
   },
   "outputs": [
    {
     "name": "stdout",
     "output_type": "stream",
     "text": [
      "user_id       0\n",
      "track      1231\n",
      "artist     7203\n",
      "genre      1198\n",
      "city          0\n",
      "time          0\n",
      "day           0\n",
      "dtype: int64\n"
     ]
    }
   ],
   "source": [
    "print(df.isna().sum())\n",
    "#print(df.isnull().sum()) # Но более лаконично использовать выше указанный код "
   ]
  },
  {
   "cell_type": "markdown",
   "metadata": {
    "deletable": false,
    "editable": false,
    "id": "qubhgnlO_Zct"
   },
   "source": [
    "Не все пропущенные значения влияют на исследование. Так в `track` и `artist` пропуски не важны для вашей работы. Достаточно заменить их явными обозначениями.\n",
    "\n",
    "Но пропуски в `genre` могут помешать сравнению музыкальных вкусов в Москве и Санкт-Петербурге. На практике было бы правильно установить причину пропусков и восстановить данные. Такой возможности нет в учебном проекте. Придётся:\n",
    "* заполнить и эти пропуски явными обозначениями;\n",
    "* оценить, насколько они повредят расчётам. "
   ]
  },
  {
   "cell_type": "markdown",
   "metadata": {
    "deletable": false,
    "editable": false,
    "id": "fSv2laPA_Zct",
    "tags": [
     "start_task"
    ]
   },
   "source": [
    "**Задание 10**\n",
    "\n",
    "Замените пропущенные значения в столбцах `track`, `artist` и `genre` на строку `'unknown'`. Для этого создайте список `columns_to_replace`, переберите его элементы циклом `for` и для каждого столбца выполните замену пропущенных значений:"
   ]
  },
  {
   "cell_type": "code",
   "execution_count": 10,
   "metadata": {
    "deletable": false,
    "id": "KplB5qWs_Zct"
   },
   "outputs": [],
   "source": [
    "columns_to_replace = ['track','artist','genre']# перебор названий столбцов в цикле и замена пропущенных значений на 'unknown'\n",
    "for colum in columns_to_replace:\n",
    "    df[colum]=df[colum].fillna('unknown')"
   ]
  },
  {
   "cell_type": "markdown",
   "metadata": {
    "deletable": false,
    "editable": false,
    "id": "Ilsm-MZo_Zct",
    "tags": [
     "start_task"
    ]
   },
   "source": [
    "**Задание 11**\n",
    "\n",
    "Убедитесь, что в таблице не осталось пропусков. Для этого ещё раз посчитайте пропущенные значения."
   ]
  },
  {
   "cell_type": "code",
   "execution_count": 11,
   "metadata": {
    "deletable": false,
    "id": "Tq4nYRX4_Zct"
   },
   "outputs": [
    {
     "name": "stdout",
     "output_type": "stream",
     "text": [
      "user_id    0\n",
      "track      0\n",
      "artist     0\n",
      "genre      0\n",
      "city       0\n",
      "time       0\n",
      "day        0\n",
      "dtype: int64\n"
     ]
    }
   ],
   "source": [
    "# подсчёт пропусков\n",
    "print(df.isna().sum())"
   ]
  },
  {
   "cell_type": "markdown",
   "metadata": {
    "deletable": false,
    "editable": false,
    "id": "BWKRtBJ3_Zct",
    "tags": [
     "start_task"
    ]
   },
   "source": [
    "### Дубликаты\n",
    "\n",
    "**Задание 12**\n",
    "\n",
    "Посчитайте явные дубликаты в таблице одной командой:"
   ]
  },
  {
   "cell_type": "code",
   "execution_count": 12,
   "metadata": {
    "deletable": false,
    "id": "36eES_S0_Zct"
   },
   "outputs": [
    {
     "data": {
      "text/plain": [
       "3826"
      ]
     },
     "execution_count": 12,
     "metadata": {},
     "output_type": "execute_result"
    }
   ],
   "source": [
    "# подсчёт явных дубликатов\n",
    "df.duplicated().sum()"
   ]
  },
  {
   "cell_type": "markdown",
   "metadata": {
    "deletable": false,
    "editable": false,
    "id": "Ot25h6XR_Zct",
    "tags": [
     "start_task"
    ]
   },
   "source": [
    "**Задание 13**\n",
    "\n",
    "Вызовите специальный метод `pandas`, чтобы удалить явные дубликаты:"
   ]
  },
  {
   "cell_type": "code",
   "execution_count": 13,
   "metadata": {
    "deletable": false,
    "id": "exFHq6tt_Zct"
   },
   "outputs": [],
   "source": [
    "# удаление явных дубликатов\n",
    "df = df.drop_duplicates()"
   ]
  },
  {
   "cell_type": "markdown",
   "metadata": {
    "deletable": false,
    "editable": false,
    "id": "Im2YwBEG_Zct",
    "tags": [
     "start_task"
    ]
   },
   "source": [
    "**Задание 14**\n",
    "\n",
    "Ещё раз посчитайте явные дубликаты в таблице — убедитесь, что полностью от них избавились:"
   ]
  },
  {
   "cell_type": "code",
   "execution_count": 14,
   "metadata": {
    "deletable": false,
    "id": "-8PuNWQ0_Zct"
   },
   "outputs": [
    {
     "data": {
      "text/plain": [
       "0"
      ]
     },
     "execution_count": 14,
     "metadata": {},
     "output_type": "execute_result"
    }
   ],
   "source": [
    "# проверка на отсутствие дубликатов\n",
    "df.duplicated().sum()"
   ]
  },
  {
   "cell_type": "markdown",
   "metadata": {
    "deletable": false,
    "editable": false,
    "id": "QlFBsxAr_Zct"
   },
   "source": [
    "Теперь избавьтесь от неявных дубликатов в колонке `genre`. Например, название одного и того же жанра может быть записано немного по-разному. Такие ошибки тоже повлияют на результат исследования."
   ]
  },
  {
   "cell_type": "markdown",
   "metadata": {
    "deletable": false,
    "editable": false,
    "id": "eSjWwsOh_Zct",
    "tags": [
     "start_task"
    ]
   },
   "source": [
    "**Задание 15**\n",
    "\n",
    "Выведите на экран список уникальных названий жанров, отсортированный в алфавитном порядке. Для этого:\n",
    "1. извлеките нужный столбец датафрейма; \n",
    "2. примените к нему метод сортировки;\n",
    "3. для отсортированного столбца вызовите метод, который вернёт уникальные значения из столбца."
   ]
  },
  {
   "cell_type": "code",
   "execution_count": 15,
   "metadata": {
    "deletable": false,
    "id": "JIUcqzZN_Zct"
   },
   "outputs": [
    {
     "data": {
      "text/plain": [
       "array(['acid', 'acoustic', 'action', 'adult', 'africa', 'afrikaans',\n",
       "       'alternative', 'alternativepunk', 'ambient', 'americana',\n",
       "       'animated', 'anime', 'arabesk', 'arabic', 'arena',\n",
       "       'argentinetango', 'art', 'audiobook', 'author', 'avantgarde',\n",
       "       'axé', 'baile', 'balkan', 'beats', 'bigroom', 'black', 'bluegrass',\n",
       "       'blues', 'bollywood', 'bossa', 'brazilian', 'breakbeat', 'breaks',\n",
       "       'broadway', 'cantautori', 'cantopop', 'canzone', 'caribbean',\n",
       "       'caucasian', 'celtic', 'chamber', 'chanson', 'children', 'chill',\n",
       "       'chinese', 'choral', 'christian', 'christmas', 'classical',\n",
       "       'classicmetal', 'club', 'colombian', 'comedy', 'conjazz',\n",
       "       'contemporary', 'country', 'cuban', 'dance', 'dancehall',\n",
       "       'dancepop', 'dark', 'death', 'deep', 'deutschrock', 'deutschspr',\n",
       "       'dirty', 'disco', 'dnb', 'documentary', 'downbeat', 'downtempo',\n",
       "       'drum', 'dub', 'dubstep', 'eastern', 'easy', 'electronic',\n",
       "       'electropop', 'emo', 'entehno', 'epicmetal', 'estrada', 'ethnic',\n",
       "       'eurofolk', 'european', 'experimental', 'extrememetal', 'fado',\n",
       "       'fairytail', 'film', 'fitness', 'flamenco', 'folk', 'folklore',\n",
       "       'folkmetal', 'folkrock', 'folktronica', 'forró', 'frankreich',\n",
       "       'französisch', 'french', 'funk', 'future', 'gangsta', 'garage',\n",
       "       'german', 'ghazal', 'gitarre', 'glitch', 'gospel', 'gothic',\n",
       "       'grime', 'grunge', 'gypsy', 'handsup', \"hard'n'heavy\", 'hardcore',\n",
       "       'hardstyle', 'hardtechno', 'hip', 'hip-hop', 'hiphop',\n",
       "       'historisch', 'holiday', 'hop', 'horror', 'house', 'hymn', 'idm',\n",
       "       'independent', 'indian', 'indie', 'indipop', 'industrial',\n",
       "       'inspirational', 'instrumental', 'international', 'irish', 'jam',\n",
       "       'japanese', 'jazz', 'jewish', 'jpop', 'jungle', 'k-pop',\n",
       "       'karadeniz', 'karaoke', 'kayokyoku', 'korean', 'laiko', 'latin',\n",
       "       'latino', 'leftfield', 'local', 'lounge', 'loungeelectronic',\n",
       "       'lovers', 'malaysian', 'mandopop', 'marschmusik', 'meditative',\n",
       "       'mediterranean', 'melodic', 'metal', 'metalcore', 'mexican',\n",
       "       'middle', 'minimal', 'miscellaneous', 'modern', 'mood', 'mpb',\n",
       "       'muslim', 'native', 'neoklassik', 'neue', 'new', 'newage',\n",
       "       'newwave', 'nu', 'nujazz', 'numetal', 'oceania', 'old', 'opera',\n",
       "       'orchestral', 'other', 'piano', 'podcasts', 'pop', 'popdance',\n",
       "       'popelectronic', 'popeurodance', 'poprussian', 'post',\n",
       "       'posthardcore', 'postrock', 'power', 'progmetal', 'progressive',\n",
       "       'psychedelic', 'punjabi', 'punk', 'quebecois', 'ragga', 'ram',\n",
       "       'rancheras', 'rap', 'rave', 'reggae', 'reggaeton', 'regional',\n",
       "       'relax', 'religious', 'retro', 'rhythm', 'rnb', 'rnr', 'rock',\n",
       "       'rockabilly', 'rockalternative', 'rockindie', 'rockother',\n",
       "       'romance', 'roots', 'ruspop', 'rusrap', 'rusrock', 'russian',\n",
       "       'salsa', 'samba', 'scenic', 'schlager', 'self', 'sertanejo',\n",
       "       'shanson', 'shoegazing', 'showtunes', 'singer', 'ska', 'skarock',\n",
       "       'slow', 'smooth', 'soft', 'soul', 'soulful', 'sound', 'soundtrack',\n",
       "       'southern', 'specialty', 'speech', 'spiritual', 'sport',\n",
       "       'stonerrock', 'surf', 'swing', 'synthpop', 'synthrock',\n",
       "       'sängerportrait', 'tango', 'tanzorchester', 'taraftar', 'tatar',\n",
       "       'tech', 'techno', 'teen', 'thrash', 'top', 'traditional',\n",
       "       'tradjazz', 'trance', 'tribal', 'trip', 'triphop', 'tropical',\n",
       "       'türk', 'türkçe', 'ukrrock', 'unknown', 'urban', 'uzbek',\n",
       "       'variété', 'vi', 'videogame', 'vocal', 'western', 'world',\n",
       "       'worldbeat', 'ïîï', 'электроника'], dtype=object)"
      ]
     },
     "execution_count": 15,
     "metadata": {},
     "output_type": "execute_result"
    }
   ],
   "source": [
    "# Просмотр уникальных названий жанров\n",
    "df['genre'].sort_values().unique() "
   ]
  },
  {
   "cell_type": "markdown",
   "metadata": {
    "deletable": false,
    "editable": false,
    "id": "qej-Qmuo_Zct",
    "tags": [
     "start_task"
    ]
   },
   "source": [
    "**Задание 16**\n",
    "\n",
    "Просмотрите список и найдите неявные дубликаты названия `hiphop`. Это могут быть названия с ошибками или альтернативные названия того же жанра.\n",
    "\n",
    "Вы увидите следующие неявные дубликаты:\n",
    "* *hip*,\n",
    "* *hop*,\n",
    "* *hip-hop*.\n",
    "\n",
    "Чтобы очистить от них таблицу используйте метод `replace()` с двумя аргументами: списком строк-дубликатов (включащий *hip*, *hop* и *hip-hop*) и строкой с правильным значением. Вам нужно исправить колонку `genre` в таблице `df`: заменить каждое значение из списка дубликатов на верное. Вместо `hip`, `hop` и `hip-hop` в таблице должно быть значение `hiphop`:"
   ]
  },
  {
   "cell_type": "code",
   "execution_count": 16,
   "metadata": {
    "deletable": false,
    "id": "ErNDkmns_Zct"
   },
   "outputs": [],
   "source": [
    "# Устранение неявных дубликатов\n",
    "df['genre'] = df['genre'].replace(['hip','hop','hip-hop'],'hiphop')"
   ]
  },
  {
   "cell_type": "markdown",
   "metadata": {
    "deletable": false,
    "editable": false,
    "id": "zQKF16_RG15m",
    "tags": [
     "start_task"
    ]
   },
   "source": [
    "**Задание 17**\n",
    "\n",
    "Проверьте, что заменили неправильные названия:\n",
    "\n",
    "*   hip,\n",
    "*   hop,\n",
    "*   hip-hop.\n",
    "\n",
    "Выведите отсортированный список уникальных значений столбца `genre`:"
   ]
  },
  {
   "cell_type": "code",
   "execution_count": 17,
   "metadata": {
    "deletable": false,
    "id": "wvixALnFG15m"
   },
   "outputs": [
    {
     "name": "stdout",
     "output_type": "stream",
     "text": [
      "['acid' 'acoustic' 'action' 'adult' 'africa' 'afrikaans' 'alternative'\n",
      " 'alternativepunk' 'ambient' 'americana' 'animated' 'anime' 'arabesk'\n",
      " 'arabic' 'arena' 'argentinetango' 'art' 'audiobook' 'author' 'avantgarde'\n",
      " 'axé' 'baile' 'balkan' 'beats' 'bigroom' 'black' 'bluegrass' 'blues'\n",
      " 'bollywood' 'bossa' 'brazilian' 'breakbeat' 'breaks' 'broadway'\n",
      " 'cantautori' 'cantopop' 'canzone' 'caribbean' 'caucasian' 'celtic'\n",
      " 'chamber' 'chanson' 'children' 'chill' 'chinese' 'choral' 'christian'\n",
      " 'christmas' 'classical' 'classicmetal' 'club' 'colombian' 'comedy'\n",
      " 'conjazz' 'contemporary' 'country' 'cuban' 'dance' 'dancehall' 'dancepop'\n",
      " 'dark' 'death' 'deep' 'deutschrock' 'deutschspr' 'dirty' 'disco' 'dnb'\n",
      " 'documentary' 'downbeat' 'downtempo' 'drum' 'dub' 'dubstep' 'eastern'\n",
      " 'easy' 'electronic' 'electropop' 'emo' 'entehno' 'epicmetal' 'estrada'\n",
      " 'ethnic' 'eurofolk' 'european' 'experimental' 'extrememetal' 'fado'\n",
      " 'fairytail' 'film' 'fitness' 'flamenco' 'folk' 'folklore' 'folkmetal'\n",
      " 'folkrock' 'folktronica' 'forró' 'frankreich' 'französisch' 'french'\n",
      " 'funk' 'future' 'gangsta' 'garage' 'german' 'ghazal' 'gitarre' 'glitch'\n",
      " 'gospel' 'gothic' 'grime' 'grunge' 'gypsy' 'handsup' \"hard'n'heavy\"\n",
      " 'hardcore' 'hardstyle' 'hardtechno' 'hiphop' 'historisch' 'holiday'\n",
      " 'horror' 'house' 'hymn' 'idm' 'independent' 'indian' 'indie' 'indipop'\n",
      " 'industrial' 'inspirational' 'instrumental' 'international' 'irish' 'jam'\n",
      " 'japanese' 'jazz' 'jewish' 'jpop' 'jungle' 'k-pop' 'karadeniz' 'karaoke'\n",
      " 'kayokyoku' 'korean' 'laiko' 'latin' 'latino' 'leftfield' 'local'\n",
      " 'lounge' 'loungeelectronic' 'lovers' 'malaysian' 'mandopop' 'marschmusik'\n",
      " 'meditative' 'mediterranean' 'melodic' 'metal' 'metalcore' 'mexican'\n",
      " 'middle' 'minimal' 'miscellaneous' 'modern' 'mood' 'mpb' 'muslim'\n",
      " 'native' 'neoklassik' 'neue' 'new' 'newage' 'newwave' 'nu' 'nujazz'\n",
      " 'numetal' 'oceania' 'old' 'opera' 'orchestral' 'other' 'piano' 'podcasts'\n",
      " 'pop' 'popdance' 'popelectronic' 'popeurodance' 'poprussian' 'post'\n",
      " 'posthardcore' 'postrock' 'power' 'progmetal' 'progressive' 'psychedelic'\n",
      " 'punjabi' 'punk' 'quebecois' 'ragga' 'ram' 'rancheras' 'rap' 'rave'\n",
      " 'reggae' 'reggaeton' 'regional' 'relax' 'religious' 'retro' 'rhythm'\n",
      " 'rnb' 'rnr' 'rock' 'rockabilly' 'rockalternative' 'rockindie' 'rockother'\n",
      " 'romance' 'roots' 'ruspop' 'rusrap' 'rusrock' 'russian' 'salsa' 'samba'\n",
      " 'scenic' 'schlager' 'self' 'sertanejo' 'shanson' 'shoegazing' 'showtunes'\n",
      " 'singer' 'ska' 'skarock' 'slow' 'smooth' 'soft' 'soul' 'soulful' 'sound'\n",
      " 'soundtrack' 'southern' 'specialty' 'speech' 'spiritual' 'sport'\n",
      " 'stonerrock' 'surf' 'swing' 'synthpop' 'synthrock' 'sängerportrait'\n",
      " 'tango' 'tanzorchester' 'taraftar' 'tatar' 'tech' 'techno' 'teen'\n",
      " 'thrash' 'top' 'traditional' 'tradjazz' 'trance' 'tribal' 'trip'\n",
      " 'triphop' 'tropical' 'türk' 'türkçe' 'ukrrock' 'unknown' 'urban' 'uzbek'\n",
      " 'variété' 'vi' 'videogame' 'vocal' 'western' 'world' 'worldbeat' 'ïîï'\n",
      " 'электроника']\n"
     ]
    }
   ],
   "source": [
    "# Проверка на неявные дубликаты\n",
    "print(df['genre'].sort_values().unique())"
   ]
  },
  {
   "cell_type": "markdown",
   "metadata": {
    "deletable": false,
    "editable": false,
    "id": "jz6a9-7HQUDd"
   },
   "source": [
    "**Выводы**\n",
    "\n",
    "Предобработка обнаружила три проблемы в данных:\n",
    "\n",
    "- нарушения в стиле заголовков,\n",
    "- пропущенные значения,\n",
    "- дубликаты — явные и неявные.\n",
    "\n",
    "Вы исправили заголовки, чтобы упростить работу с таблицей. Без дубликатов исследование станет более точным.\n",
    "\n",
    "Пропущенные значения вы заменили на `'unknown'`. Ещё предстоит увидеть, не повредят ли исследованию пропуски в колонке `genre`.\n",
    "\n",
    "Теперь можно перейти к проверке гипотез. "
   ]
  },
  {
   "cell_type": "markdown",
   "metadata": {
    "deletable": false,
    "editable": false,
    "id": "WttZHXH0SqKk"
   },
   "source": [
    "## Проверка гипотез"
   ]
  },
  {
   "cell_type": "markdown",
   "metadata": {
    "deletable": false,
    "editable": false,
    "id": "Im936VVi_Zcu"
   },
   "source": [
    "### Сравнение поведения пользователей двух столиц"
   ]
  },
  {
   "cell_type": "markdown",
   "metadata": {
    "deletable": false,
    "editable": false,
    "id": "nwt_MuaL_Zcu"
   },
   "source": [
    "Первая гипотеза утверждает, что пользователи по-разному слушают музыку в Москве и Санкт-Петербурге. Проверьте это предположение по данным о трёх днях недели — понедельнике, среде и пятнице. Для этого:\n",
    "\n",
    "* Разделите пользователей Москвы и Санкт-Петербурга.\n",
    "* Сравните, сколько треков послушала каждая группа пользователей в понедельник, среду и пятницу.\n"
   ]
  },
  {
   "cell_type": "markdown",
   "metadata": {
    "deletable": false,
    "editable": false,
    "id": "8Dw_YMmT_Zcu",
    "tags": [
     "start_task"
    ]
   },
   "source": [
    "**Задание 18**\n",
    "\n",
    "Для тренировки сначала выполните каждый из расчётов по отдельности. \n",
    "\n",
    "Оцените активность пользователей в каждом городе. Сгруппируйте данные по городу и посчитайте прослушивания в каждой группе.\n",
    "\n"
   ]
  },
  {
   "cell_type": "code",
   "execution_count": 18,
   "metadata": {
    "deletable": false,
    "id": "0_Qs96oh_Zcu"
   },
   "outputs": [
    {
     "name": "stdout",
     "output_type": "stream",
     "text": [
      "city\n",
      "Moscow              42741\n",
      "Saint-Petersburg    18512\n",
      "Name: genre, dtype: int64\n"
     ]
    }
   ],
   "source": [
    "# Подсчёт прослушиваний в каждом городе\n",
    "print(df.groupby('city')['genre'].count())\n",
    "# По праслушиванию очень странно звучит (так как тут по жанру )\n",
    "# Я сначала писал print(df.groupby('city').count())\n",
    "# А потом подумал может один из столбцов нужен и вот "
   ]
  },
  {
   "cell_type": "markdown",
   "metadata": {
    "deletable": false,
    "editable": false,
    "id": "dzli3w8o_Zcu",
    "tags": [
     "start_task"
    ]
   },
   "source": [
    "В Москве прослушиваний больше, чем в Петербурге. Из этого не следует, что московские пользователи чаще слушают музыку. Просто самих пользователей в Москве больше.\n",
    "\n",
    "**Задание 19**\n",
    "\n",
    "Теперь сгруппируйте данные по дню недели и посчитайте прослушивания в понедельник, среду и пятницу. Учтите, что в данных есть информация о прослушиваниях только за эти дни.\n"
   ]
  },
  {
   "cell_type": "code",
   "execution_count": 19,
   "metadata": {
    "deletable": false,
    "id": "uZMKjiJz_Zcu"
   },
   "outputs": [
    {
     "name": "stdout",
     "output_type": "stream",
     "text": [
      "day\n",
      "Friday       21840\n",
      "Monday       21354\n",
      "Wednesday    18059\n",
      "Name: city, dtype: int64\n"
     ]
    }
   ],
   "source": [
    "# Подсчёт прослушиваний в каждый из трёх дней\n",
    "print(df.groupby('day')['city'].count())\n"
   ]
  },
  {
   "cell_type": "markdown",
   "metadata": {
    "deletable": false,
    "editable": false,
    "id": "cC2tNrlL_Zcu"
   },
   "source": [
    "В среднем пользователи из двух городов менее активны по средам. Но картина может измениться, если рассмотреть каждый город в отдельности."
   ]
  },
  {
   "cell_type": "markdown",
   "metadata": {
    "deletable": false,
    "editable": false,
    "id": "POzs8bGa_Zcu",
    "tags": [
     "start_task"
    ]
   },
   "source": [
    "**Задание 20**\n",
    "\n",
    "\n",
    "Вы видели, как работает группировка по городу и по дням недели. Теперь напишите функцию, которая объединит два эти расчёта.\n",
    "\n",
    "Создайте функцию `number_tracks()`, которая посчитает прослушивания для заданного дня и города. Ей понадобятся два параметра:\n",
    "* день недели,\n",
    "* название города.\n",
    "\n",
    "В функции сохраните в переменную строки исходной таблицы, у которых значение:\n",
    "  * в колонке `day` равно параметру `day`,\n",
    "  * в колонке `city` равно параметру `city`.\n",
    "\n",
    "Для этого примените последовательную фильтрацию с логической индексацией (или сложные логические выражения в одну строку, если вы уже знакомы с ними).\n",
    "\n",
    "Затем посчитайте значения в столбце `user_id` получившейся таблицы. Результат сохраните в новую переменную. Верните эту переменную из функции."
   ]
  },
  {
   "cell_type": "code",
   "execution_count": 20,
   "metadata": {
    "deletable": false,
    "id": "Nz3GdQB1_Zcu"
   },
   "outputs": [],
   "source": [
    "def number_tracks (day,city):# <создание функции number_tracks()>\n",
    "    play_list = df[df['day'] == day]\n",
    "    play_list = play_list[play_list[\"city\"] == city]\n",
    "    play_list = play_list[\"user_id\"].count()\n",
    "    return play_list\n",
    "# Объявляется функция с двумя параметрами: day, city.\n",
    "# В переменной track_list сохраняются те строки таблицы df, для которых \n",
    "# значение в столбце 'day' равно параметру day и одновременно значение\n",
    "# в столбце 'city' равно параметру city (используйте последовательную фильтрацию\n",
    "# с помощью логической индексации или сложные логические выражения в одну строку, если вы уже знакомы с ними).\n",
    "# В переменной track_list_count сохраняется число значений столбца 'user_id',\n",
    "# рассчитанное методом count() для таблицы track_list.\n",
    "# Функция возвращает число - значение track_list_count.\n",
    "# Функция для подсчёта прослушиваний для конкретного города и дня.\n",
    "# С помощью последовательной фильтрации с логической индексацией она \n",
    "# сначала получит из исходной таблицы строки с нужным днём,\n",
    "# затем из результата отфильтрует строки с нужным городом,\n",
    "# методом count() посчитает количество значений в колонке user_id. \n",
    "# Это количество функция вернёт в качестве результата"
   ]
  },
  {
   "cell_type": "markdown",
   "metadata": {
    "deletable": false,
    "editable": false,
    "id": "ytf7xFrFJQ2r",
    "tags": [
     "start_task"
    ]
   },
   "source": [
    "**Задание 21**\n",
    "\n",
    "Вызовите `number_tracks()` шесть раз, меняя значение параметров — так, чтобы получить данные для каждого города в каждый из трёх дней."
   ]
  },
  {
   "cell_type": "code",
   "execution_count": 21,
   "metadata": {
    "deletable": false,
    "id": "rJcRATNQ_Zcu"
   },
   "outputs": [
    {
     "name": "stdout",
     "output_type": "stream",
     "text": [
      "15740\n"
     ]
    }
   ],
   "source": [
    "print(number_tracks('Monday', 'Moscow')) # количество прослушиваний в Москве по понедельникам"
   ]
  },
  {
   "cell_type": "code",
   "execution_count": 22,
   "metadata": {
    "deletable": false,
    "id": "hq_ncZ5T_Zcu"
   },
   "outputs": [
    {
     "name": "stdout",
     "output_type": "stream",
     "text": [
      "5614\n"
     ]
    }
   ],
   "source": [
    "print(number_tracks('Monday', 'Saint-Petersburg')) # количество прослушиваний в Санкт-Петербурге по понедельникам"
   ]
  },
  {
   "cell_type": "code",
   "execution_count": 23,
   "metadata": {
    "deletable": false,
    "id": "_NTy2VPU_Zcu"
   },
   "outputs": [
    {
     "name": "stdout",
     "output_type": "stream",
     "text": [
      "11056\n"
     ]
    }
   ],
   "source": [
    "print(number_tracks('Wednesday', 'Moscow')) # количество прослушиваний в Москве по средам"
   ]
  },
  {
   "cell_type": "code",
   "execution_count": 24,
   "metadata": {
    "deletable": false,
    "id": "j2y3TAwo_Zcu"
   },
   "outputs": [
    {
     "name": "stdout",
     "output_type": "stream",
     "text": [
      "7003\n"
     ]
    }
   ],
   "source": [
    "print(number_tracks('Wednesday', 'Saint-Petersburg')) # количество прослушиваний в Санкт-Петербурге по средам"
   ]
  },
  {
   "cell_type": "code",
   "execution_count": 25,
   "metadata": {
    "deletable": false,
    "id": "vYDw5u_K_Zcu"
   },
   "outputs": [
    {
     "name": "stdout",
     "output_type": "stream",
     "text": [
      "15945\n"
     ]
    }
   ],
   "source": [
    "print(number_tracks('Friday', 'Moscow')) # количество прослушиваний в Москве по пятницам"
   ]
  },
  {
   "cell_type": "code",
   "execution_count": 26,
   "metadata": {
    "deletable": false,
    "id": "8_yzFtW3_Zcu"
   },
   "outputs": [
    {
     "name": "stdout",
     "output_type": "stream",
     "text": [
      "5895\n"
     ]
    }
   ],
   "source": [
    "print(number_tracks('Friday', 'Saint-Petersburg')) # количество прослушиваний в Санкт-Петербурге по пятницам"
   ]
  },
  {
   "cell_type": "markdown",
   "metadata": {
    "deletable": false,
    "editable": false,
    "id": "7QXffbO-_Zcu",
    "tags": [
     "start_task"
    ]
   },
   "source": [
    "**Задание 22**\n",
    "\n",
    "Создайте c помощью конструктора `pd.DataFrame` таблицу, где\n",
    "* названия колонок — `['city', 'monday', 'wednesday', 'friday']`;\n",
    "* данные — результаты, которые вы получили с помощью `number_tracks`."
   ]
  },
  {
   "cell_type": "code",
   "execution_count": 27,
   "metadata": {
    "deletable": false,
    "id": "APAcLpOr_Zcu"
   },
   "outputs": [
    {
     "name": "stdout",
     "output_type": "stream",
     "text": [
      "               city  monday  wednesday  friday\n",
      "0            Moscow   15740      11056   15945\n",
      "1  Saint-Petersburg    5614       7003    5895\n"
     ]
    }
   ],
   "source": [
    "info = pd.DataFrame (data = [['Moscow',15740,11056,15945] , ['Saint-Petersburg',5614,7003,5895]], columns = ['city', 'monday', 'wednesday', 'friday'])\n",
    "print(info)# Таблица с результатами"
   ]
  },
  {
   "cell_type": "markdown",
   "metadata": {
    "deletable": false,
    "editable": false,
    "id": "-EgPIHYu_Zcu"
   },
   "source": [
    "**Выводы**\n",
    "\n",
    "Данные показывают разницу поведения пользователей:\n",
    "\n",
    "- В Москве пик прослушиваний приходится на понедельник и пятницу, а в среду заметен спад.\n",
    "- В Петербурге, наоборот, больше слушают музыку по средам. Активность в понедельник и пятницу здесь почти в равной мере уступает среде.\n",
    "\n",
    "Значит, данные говорят в пользу первой гипотезы."
   ]
  },
  {
   "cell_type": "markdown",
   "metadata": {
    "deletable": false,
    "editable": false,
    "id": "atZAxtq4_Zcu"
   },
   "source": [
    "### Музыка в начале и в конце недели"
   ]
  },
  {
   "cell_type": "markdown",
   "metadata": {
    "deletable": false,
    "editable": false,
    "id": "eXrQqXFH_Zcu"
   },
   "source": [
    "Согласно второй гипотезе, утром в понедельник в Москве преобладают одни жанры, а в Петербурге — другие. Так же и вечером пятницы преобладают разные жанры — в зависимости от города."
   ]
  },
  {
   "cell_type": "markdown",
   "metadata": {
    "deletable": false,
    "editable": false,
    "id": "S8UcW6Hw_Zcu",
    "tags": [
     "start_task"
    ]
   },
   "source": [
    "**Задание 23**\n",
    "\n",
    "Сохраните таблицы с данными в две переменные:\n",
    "* по Москве — в `moscow_general`;\n",
    "* по Санкт-Петербургу — в `spb_general`."
   ]
  },
  {
   "cell_type": "code",
   "execution_count": 28,
   "metadata": {
    "deletable": false,
    "id": "qeaFfM_P_Zcu"
   },
   "outputs": [],
   "source": [
    "# получение таблицы moscow_general из тех строк таблицы df, \n",
    "# для которых значение в столбце 'city' равно 'Moscow'\n",
    "moscow_general = df[df['city']== 'Moscow']"
   ]
  },
  {
   "cell_type": "code",
   "execution_count": 29,
   "metadata": {
    "deletable": false,
    "id": "ORaVRKto_Zcu"
   },
   "outputs": [],
   "source": [
    "# получение таблицы spb_general из тех строк таблицы df,\n",
    "# для которых значение в столбце 'city' равно 'Saint-Petersburg'\n",
    "spb_general = df[df['city'] == 'Saint-Petersburg']"
   ]
  },
  {
   "cell_type": "markdown",
   "metadata": {
    "deletable": false,
    "id": "MEJV-CX2_Zcu",
    "tags": [
     "start_task"
    ]
   },
   "source": [
    "**Задание 24**\n",
    "\n",
    "Создайте функцию `genre_weekday()` с четырьмя параметрами:\n",
    "* таблица (датафрейм) с данными,\n",
    "* день недели,\n",
    "* начальная временная метка в формате 'hh:mm', \n",
    "* последняя временная метка в формате 'hh:mm'.\n",
    "\n",
    "Функция должна вернуть информацию о топ-10 жанров тех треков, которые прослушивали в указанный день, в промежутке между двумя отметками времени."
   ]
  },
  {
   "cell_type": "code",
   "execution_count": 30,
   "metadata": {
    "deletable": false,
    "id": "laJT9BYl_Zcu"
   },
   "outputs": [],
   "source": [
    "# Объявление функции genre_weekday() с параметрами table, day, time1, time2,\n",
    "# которая возвращает информацию о самых популярных жанрах в указанный день в\n",
    "# заданное время:\n",
    "# 1) в переменную genre_df сохраняются те строки переданного датафрейма table, для\n",
    "#    которых одновременно:\n",
    "#    - значение в столбце day равно значению аргумента day\n",
    "#    - значение в столбце time больше значения аргумента time1\n",
    "#    - значение в столбце time меньше значения аргумента time2\n",
    "#    Используйте последовательную фильтрацию с помощью логической индексации.\n",
    "# 2) сгруппировать датафрейм genre_df по столбцу genre, взять один из его\n",
    "#    столбцов и посчитать методом count() количество записей для каждого из\n",
    "#    присутствующих жанров, получившийся Series записать в переменную\n",
    "#    genre_df_count\n",
    "# 3) отсортировать genre_df_count по убыванию встречаемости и сохранить\n",
    "#    в переменную genre_df_sorted\n",
    "# 4) вернуть Series из 10 первых значений genre_df_sorted, это будут топ-10\n",
    "#    популярных жанров (в указанный день, в заданное время)\n",
    "\n",
    "def genre_weekday(df, day, time1, time2):\n",
    "    # последовательная фильтрация\n",
    "    # оставляем в genre_df только те строки df, у которых день равен day\n",
    "    genre_df = df [df[\"day\"] == day]# ваш код здесь\n",
    "    # оставляем в genre_df только те строки genre_df, у которых время меньше time2\n",
    "    genre_df = genre_df[genre_df['time'] < time2]# ваш код здесь\n",
    "    # оставляем в genre_df только те строки genre_df, у которых время больше time1\n",
    "    genre_df = genre_df[genre_df['time'] > time1]# ваш код здесь\n",
    "    # сгруппируем отфильтрованный датафрейм по столбцу с названиями жанров, возьмём столбец genre и посчитаем кол-во строк для каждого жанра методом count()\n",
    "    genre_df_grouped = genre_df.groupby('genre')['genre'].count()# ваш код здесь\n",
    "    # отсортируем результат по убыванию (чтобы в начале Series оказались самые популярные жанры)\n",
    "    genre_df_sorted =  genre_df_grouped.sort_values(ascending=False)# ваш код здесь\n",
    "    # вернём Series с 10 самыми популярными жанрами в указанный отрезок времени заданного дня\n",
    "    return genre_df_sorted[:10]"
   ]
  },
  {
   "cell_type": "markdown",
   "metadata": {
    "deletable": false,
    "editable": false,
    "id": "la2s2_PF_Zcu",
    "tags": [
     "start_task"
    ]
   },
   "source": [
    "**Задание 25**\n",
    "\n",
    "\n",
    "Cравните результаты функции `genre_weekday()` для Москвы и Санкт-Петербурга в понедельник утром (с 7:00 до 11:00) и в пятницу вечером (с 17:00 до 23:00):"
   ]
  },
  {
   "cell_type": "code",
   "execution_count": 31,
   "metadata": {
    "deletable": false,
    "id": "yz7itPUQ_Zcu"
   },
   "outputs": [
    {
     "name": "stdout",
     "output_type": "stream",
     "text": [
      "genre\n",
      "pop            781\n",
      "dance          549\n",
      "electronic     480\n",
      "rock           474\n",
      "hiphop         286\n",
      "ruspop         186\n",
      "world          181\n",
      "rusrap         175\n",
      "alternative    164\n",
      "unknown        161\n",
      "Name: genre, dtype: int64\n"
     ]
    }
   ],
   "source": [
    "# вызов функции для утра понедельника в Москве (вместо df — таблица moscow_general)\n",
    "# объекты, хранящие время, являются строками и сравниваются как строки\n",
    "# пример вызова: genre_weekday(moscow_general, 'Monday', '07:00', '11:00')\n",
    "print (genre_weekday(moscow_general,'Monday','07:00','11:00'))"
   ]
  },
  {
   "cell_type": "code",
   "execution_count": 32,
   "metadata": {
    "deletable": false,
    "id": "kwUcHPdy_Zcu"
   },
   "outputs": [
    {
     "name": "stdout",
     "output_type": "stream",
     "text": [
      "genre\n",
      "pop            218\n",
      "dance          182\n",
      "rock           162\n",
      "electronic     147\n",
      "hiphop          80\n",
      "ruspop          64\n",
      "alternative     58\n",
      "rusrap          55\n",
      "jazz            44\n",
      "classical       40\n",
      "Name: genre, dtype: int64\n"
     ]
    }
   ],
   "source": [
    "# вызов функции для утра понедельника в Петербурге (вместо df — таблица spb_general)\n",
    "print (genre_weekday(spb_general,'Monday','07:00','11:00'))"
   ]
  },
  {
   "cell_type": "code",
   "execution_count": 33,
   "metadata": {
    "deletable": false,
    "id": "EzXVRE1o_Zcu"
   },
   "outputs": [
    {
     "name": "stdout",
     "output_type": "stream",
     "text": [
      "genre\n",
      "pop            713\n",
      "rock           517\n",
      "dance          495\n",
      "electronic     482\n",
      "hiphop         273\n",
      "world          208\n",
      "ruspop         170\n",
      "alternative    163\n",
      "classical      163\n",
      "rusrap         142\n",
      "Name: genre, dtype: int64\n"
     ]
    }
   ],
   "source": [
    "# вызов функции для вечера пятницы в Москве\n",
    "print (genre_weekday(moscow_general,'Friday','17:00','23:00'))"
   ]
  },
  {
   "cell_type": "code",
   "execution_count": 34,
   "metadata": {
    "deletable": false,
    "id": "JZaEKu5v_Zcu"
   },
   "outputs": [
    {
     "name": "stdout",
     "output_type": "stream",
     "text": [
      "genre\n",
      "pop            256\n",
      "electronic     216\n",
      "rock           216\n",
      "dance          210\n",
      "hiphop          97\n",
      "alternative     63\n",
      "jazz            61\n",
      "classical       60\n",
      "rusrap          59\n",
      "world           54\n",
      "Name: genre, dtype: int64\n"
     ]
    }
   ],
   "source": [
    "# вызов функции для вечера пятницы в Петербурге\n",
    "print (genre_weekday(spb_general,'Friday','17:00','23:00'))"
   ]
  },
  {
   "cell_type": "markdown",
   "metadata": {
    "deletable": false,
    "editable": false,
    "id": "wrCe4MNX_Zcu"
   },
   "source": [
    "**Выводы**\n",
    "\n",
    "Если сравнить топ-10 жанров в понедельник утром, можно сделать такие выводы:\n",
    "\n",
    "1. В Москве и Петербурге слушают похожую музыку. Единственное отличие — в московский рейтинг вошёл жанр “world”, а в петербургский — джаз и классика.\n",
    "\n",
    "2. В Москве пропущенных значений оказалось так много, что значение `'unknown'` заняло десятое место среди самых популярных жанров. Значит, пропущенные значения занимают существенную долю в данных и угрожают достоверности исследования.\n",
    "\n",
    "Вечер пятницы не меняет эту картину. Некоторые жанры поднимаются немного выше, другие спускаются, но в целом топ-10 остаётся тем же самым.\n",
    "\n",
    "Таким образом, вторая гипотеза подтвердилась лишь частично:\n",
    "* Пользователи слушают похожую музыку в начале недели и в конце.\n",
    "* Разница между Москвой и Петербургом не слишком выражена. В Москве чаще слушают русскую популярную музыку, в Петербурге — джаз.\n",
    "\n",
    "Однако пропуски в данных ставят под сомнение этот результат. В Москве их так много, что рейтинг топ-10 мог бы выглядеть иначе, если бы не утерянные  данные о жанрах."
   ]
  },
  {
   "cell_type": "markdown",
   "metadata": {
    "deletable": false,
    "editable": false,
    "id": "JolODAqr_Zcu"
   },
   "source": [
    "### Жанровые предпочтения в Москве и Петербурге\n",
    "\n",
    "Гипотеза: Петербург — столица рэпа, музыку этого жанра там слушают чаще, чем в Москве.  А Москва — город контрастов, в котором, тем не менее, преобладает поп-музыка."
   ]
  },
  {
   "cell_type": "markdown",
   "metadata": {
    "deletable": false,
    "editable": false,
    "id": "DlegSvaT_Zcu",
    "tags": [
     "start_task"
    ]
   },
   "source": [
    "**Задание 26**\n",
    "\n",
    "Сгруппируйте таблицу `moscow_general` по жанру и посчитайте прослушивания треков каждого жанра методом `count()`. Затем отсортируйте результат в порядке убывания и сохраните его в таблице `moscow_genres`."
   ]
  },
  {
   "cell_type": "code",
   "execution_count": 35,
   "metadata": {
    "deletable": false,
    "id": "r19lIPke_Zcu"
   },
   "outputs": [],
   "source": [
    "# одной строкой: группировка таблицы moscow_general по столбцу 'genre', \n",
    "# подсчёт числа значений 'genre' в этой группировке методом count(), \n",
    "# сортировка получившегося Series в порядке убывания и сохранение в moscow_genres\n",
    "moscow_genres = moscow_general.groupby('genre')[\"genre\"].count().sort_values(ascending = False)"
   ]
  },
  {
   "cell_type": "markdown",
   "metadata": {
    "deletable": false,
    "editable": false,
    "id": "6kMuomxTiIr8",
    "tags": [
     "start_task"
    ]
   },
   "source": [
    "**Задание 27**\n",
    "\n",
    "Выведите на экран первые десять строк `moscow_genres`:"
   ]
  },
  {
   "cell_type": "code",
   "execution_count": 36,
   "metadata": {
    "deletable": false,
    "id": "WhCSooF8_Zcv"
   },
   "outputs": [
    {
     "name": "stdout",
     "output_type": "stream",
     "text": [
      "genre\n",
      "pop            5892\n",
      "dance          4435\n",
      "rock           3965\n",
      "electronic     3786\n",
      "hiphop         2096\n",
      "classical      1616\n",
      "world          1432\n",
      "alternative    1379\n",
      "ruspop         1372\n",
      "rusrap         1161\n",
      "Name: genre, dtype: int64\n"
     ]
    }
   ],
   "source": [
    "# просмотр первых 10 строк moscow_genres\n",
    "print(moscow_genres[:10])\n",
    "#print(moscow_genres.head(10))"
   ]
  },
  {
   "cell_type": "markdown",
   "metadata": {
    "deletable": false,
    "editable": false,
    "id": "cnPG2vnN_Zcv",
    "tags": [
     "start_task"
    ]
   },
   "source": [
    "**Задание 28**\n",
    "\n",
    "\n",
    "Теперь повторите то же и для Петербурга.\n",
    "\n",
    "Сгруппируйте таблицу `spb_general` по жанру. Посчитайте прослушивания треков каждого жанра. Результат отсортируйте в порядке убывания и сохраните в таблице `spb_genres`:\n"
   ]
  },
  {
   "cell_type": "code",
   "execution_count": 37,
   "metadata": {
    "deletable": false,
    "id": "gluLIpE7_Zcv"
   },
   "outputs": [],
   "source": [
    "# одной строкой: группировка таблицы spb_general по столбцу 'genre', \n",
    "# подсчёт числа значений 'genre' в этой группировке методом count(), \n",
    "# сортировка получившегося Series в порядке убывания и сохранение в spb_genres\n",
    "spb_genres = spb_general.groupby('genre')['genre'].count().sort_values(ascending = False)"
   ]
  },
  {
   "cell_type": "markdown",
   "metadata": {
    "deletable": false,
    "editable": false,
    "id": "5Doha_ODgyQ8",
    "tags": [
     "start_task"
    ]
   },
   "source": [
    "**Задание 29**\n",
    "\n",
    "Выведите на экран первые десять строк `spb_genres`:"
   ]
  },
  {
   "cell_type": "code",
   "execution_count": 38,
   "metadata": {
    "deletable": false,
    "id": "uaGJHjVU_Zcv"
   },
   "outputs": [
    {
     "name": "stdout",
     "output_type": "stream",
     "text": [
      "genre\n",
      "pop            2431\n",
      "dance          1932\n",
      "rock           1879\n",
      "electronic     1736\n",
      "hiphop          960\n",
      "alternative     649\n",
      "classical       646\n",
      "rusrap          564\n",
      "ruspop          538\n",
      "world           515\n",
      "Name: genre, dtype: int64\n"
     ]
    }
   ],
   "source": [
    "# просмотр первых 10 строк spb_genres\n",
    "print(spb_genres.head(10))"
   ]
  },
  {
   "cell_type": "markdown",
   "metadata": {
    "deletable": false,
    "editable": false,
    "id": "RY51YJYu_Zcv"
   },
   "source": [
    "**Выводы**"
   ]
  },
  {
   "cell_type": "markdown",
   "metadata": {
    "deletable": false,
    "editable": false,
    "id": "nVhnJEm__Zcv"
   },
   "source": [
    "Гипотеза частично подтвердилась:\n",
    "* Поп-музыка — самый популярный жанр в Москве, как и предполагала гипотеза. Более того, в топ-10 жанров встречается близкий жанр — русская популярная музыка.\n",
    "* Вопреки ожиданиям, рэп одинаково популярен в Москве и Петербурге. \n"
   ]
  },
  {
   "cell_type": "markdown",
   "metadata": {
    "deletable": false,
    "editable": false,
    "id": "ykKQ0N65_Zcv"
   },
   "source": [
    "## Итоги исследования"
   ]
  },
  {
   "cell_type": "markdown",
   "metadata": {
    "deletable": false,
    "editable": false,
    "id": "tjUwbHb3_Zcv"
   },
   "source": [
    "Вы проверили три гипотезы и установили:\n",
    "\n",
    "1. День недели по-разному влияет на активность пользователей в Москве и Петербурге. \n",
    "\n",
    "Первая гипотеза полностью подтвердилась.\n",
    "\n",
    "2. Музыкальные предпочтения не сильно меняются в течение недели — будь то Москва или Петербург. Небольшие различия заметны в начале недели, по понедельникам:\n",
    "* в Москве слушают музыку жанра “world”,\n",
    "* в Петербурге — джаз и классику.\n",
    "\n",
    "Таким образом, вторая гипотеза подтвердилась лишь отчасти. Этот результат мог оказаться иным, если бы не пропуски в данных.\n",
    "\n",
    "3. Во вкусах пользователей Москвы и Петербурга больше общего чем различий. Вопреки ожиданиям, предпочтения жанров в Петербурге напоминают московские.\n",
    "\n",
    "Третья гипотеза не подтвердилась. Если различия в предпочтениях и существуют, на основной массе пользователей они незаметны.\n",
    "\n",
    "**На практике исследования содержат проверки статистических гипотез.**\n",
    "Из данных одного сервиса не всегда можно сделать вывод о всех жителях города.\n",
    "Проверки статистических гипотез покажут, насколько они достоверны, исходя из имеющихся данных. \n",
    "С методами проверок гипотез вы ещё познакомитесь в следующих темах."
   ]
  },
  {
   "cell_type": "code",
   "execution_count": null,
   "metadata": {},
   "outputs": [],
   "source": []
  },
  {
   "cell_type": "code",
   "execution_count": null,
   "metadata": {},
   "outputs": [],
   "source": []
  }
 ],
 "metadata": {
  "ExecuteTimeLog": [
   {
    "duration": 410,
    "start_time": "2022-06-11T11:01:13.532Z"
   },
   {
    "duration": 29,
    "start_time": "2022-06-11T11:02:45.348Z"
   },
   {
    "duration": 228,
    "start_time": "2022-06-11T11:03:07.332Z"
   },
   {
    "duration": 18,
    "start_time": "2022-06-11T11:03:32.744Z"
   },
   {
    "duration": 7,
    "start_time": "2022-06-11T11:04:19.636Z"
   },
   {
    "duration": 10,
    "start_time": "2022-06-11T11:04:30.088Z"
   },
   {
    "duration": 27,
    "start_time": "2022-06-11T11:04:47.643Z"
   },
   {
    "duration": 61,
    "start_time": "2022-06-11T11:07:43.348Z"
   },
   {
    "duration": 29,
    "start_time": "2022-06-11T11:07:55.752Z"
   },
   {
    "duration": 10,
    "start_time": "2022-06-11T11:08:04.211Z"
   },
   {
    "duration": 4,
    "start_time": "2022-06-11T11:08:09.279Z"
   },
   {
    "duration": 23,
    "start_time": "2022-06-11T11:12:55.900Z"
   },
   {
    "duration": 37,
    "start_time": "2022-06-11T11:14:53.408Z"
   },
   {
    "duration": 21,
    "start_time": "2022-06-11T11:14:58.646Z"
   },
   {
    "duration": 29,
    "start_time": "2022-06-11T11:15:14.036Z"
   },
   {
    "duration": 23,
    "start_time": "2022-06-11T11:15:49.175Z"
   },
   {
    "duration": 23,
    "start_time": "2022-06-11T11:16:40.124Z"
   },
   {
    "duration": 24,
    "start_time": "2022-06-11T11:17:04.540Z"
   },
   {
    "duration": 11,
    "start_time": "2022-06-11T11:18:02.873Z"
   },
   {
    "duration": 3,
    "start_time": "2022-06-11T11:18:29.876Z"
   },
   {
    "duration": 54,
    "start_time": "2022-06-11T11:20:30.204Z"
   },
   {
    "duration": 23,
    "start_time": "2022-06-11T11:21:23.552Z"
   },
   {
    "duration": 8,
    "start_time": "2022-06-11T11:24:29.086Z"
   },
   {
    "duration": 30,
    "start_time": "2022-06-11T11:24:46.309Z"
   },
   {
    "duration": 25,
    "start_time": "2022-06-11T11:25:12.044Z"
   },
   {
    "duration": 74,
    "start_time": "2022-06-11T11:27:23.193Z"
   },
   {
    "duration": 68,
    "start_time": "2022-06-11T11:27:43.125Z"
   },
   {
    "duration": 7,
    "start_time": "2022-06-11T11:28:23.782Z"
   },
   {
    "duration": 77,
    "start_time": "2022-06-11T11:28:38.594Z"
   },
   {
    "duration": 61,
    "start_time": "2022-06-11T11:29:15.402Z"
   },
   {
    "duration": 60,
    "start_time": "2022-06-11T11:29:28.947Z"
   },
   {
    "duration": 78,
    "start_time": "2022-06-11T11:29:32.070Z"
   },
   {
    "duration": 11,
    "start_time": "2022-06-11T11:31:16.819Z"
   },
   {
    "duration": 65,
    "start_time": "2022-06-11T11:33:14.724Z"
   },
   {
    "duration": 74,
    "start_time": "2022-06-11T11:33:31.863Z"
   },
   {
    "duration": 102,
    "start_time": "2022-06-11T11:34:12.744Z"
   },
   {
    "duration": 361,
    "start_time": "2022-06-11T11:35:24.024Z"
   },
   {
    "duration": 8,
    "start_time": "2022-06-11T11:35:37.084Z"
   },
   {
    "duration": 10,
    "start_time": "2022-06-11T11:37:05.869Z"
   },
   {
    "duration": 10,
    "start_time": "2022-06-11T11:37:34.272Z"
   },
   {
    "duration": 36,
    "start_time": "2022-06-11T11:38:02.289Z"
   },
   {
    "duration": 36,
    "start_time": "2022-06-11T11:38:08.517Z"
   },
   {
    "duration": 82,
    "start_time": "2022-06-11T11:41:58.790Z"
   },
   {
    "duration": 20,
    "start_time": "2022-06-11T11:46:03.849Z"
   },
   {
    "duration": 14,
    "start_time": "2022-06-11T11:47:17.772Z"
   },
   {
    "duration": 253,
    "start_time": "2022-06-11T11:47:38.527Z"
   },
   {
    "duration": 236,
    "start_time": "2022-06-11T11:48:54.015Z"
   },
   {
    "duration": 255,
    "start_time": "2022-06-11T11:49:12.508Z"
   },
   {
    "duration": 8,
    "start_time": "2022-06-11T11:49:40.291Z"
   },
   {
    "duration": 11,
    "start_time": "2022-06-11T11:49:50.428Z"
   },
   {
    "duration": 174,
    "start_time": "2022-06-11T11:49:50.445Z"
   },
   {
    "duration": 8,
    "start_time": "2022-06-11T11:49:50.620Z"
   },
   {
    "duration": 58,
    "start_time": "2022-06-11T11:49:50.630Z"
   },
   {
    "duration": 3,
    "start_time": "2022-06-11T11:49:50.690Z"
   },
   {
    "duration": 5,
    "start_time": "2022-06-11T11:49:50.695Z"
   },
   {
    "duration": 17,
    "start_time": "2022-06-11T11:49:50.702Z"
   },
   {
    "duration": 7,
    "start_time": "2022-06-11T11:49:50.721Z"
   },
   {
    "duration": 39,
    "start_time": "2022-06-11T11:49:50.730Z"
   },
   {
    "duration": 19,
    "start_time": "2022-06-11T11:49:50.771Z"
   },
   {
    "duration": 46,
    "start_time": "2022-06-11T11:49:50.792Z"
   },
   {
    "duration": 79,
    "start_time": "2022-06-11T11:49:50.841Z"
   },
   {
    "duration": 77,
    "start_time": "2022-06-11T11:49:50.922Z"
   },
   {
    "duration": 78,
    "start_time": "2022-06-11T11:49:51.001Z"
   },
   {
    "duration": 58,
    "start_time": "2022-06-11T11:49:51.083Z"
   },
   {
    "duration": 14,
    "start_time": "2022-06-11T11:49:51.144Z"
   },
   {
    "duration": 2,
    "start_time": "2022-06-11T11:49:51.160Z"
   },
   {
    "duration": 9,
    "start_time": "2022-06-11T11:49:51.164Z"
   },
   {
    "duration": 7,
    "start_time": "2022-06-11T11:49:51.174Z"
   },
   {
    "duration": 12,
    "start_time": "2022-06-11T11:49:51.183Z"
   },
   {
    "duration": 8,
    "start_time": "2022-06-11T11:49:51.197Z"
   },
   {
    "duration": 11,
    "start_time": "2022-06-11T11:49:51.207Z"
   },
   {
    "duration": 8,
    "start_time": "2022-06-11T11:49:51.219Z"
   },
   {
    "duration": 26,
    "start_time": "2022-06-11T11:49:51.229Z"
   },
   {
    "duration": 16,
    "start_time": "2022-06-11T11:49:51.257Z"
   },
   {
    "duration": 13,
    "start_time": "2022-06-11T11:49:51.275Z"
   },
   {
    "duration": 8,
    "start_time": "2022-06-11T11:49:51.290Z"
   },
   {
    "duration": 10,
    "start_time": "2022-06-11T11:49:51.300Z"
   },
   {
    "duration": 10,
    "start_time": "2022-06-11T11:49:51.311Z"
   },
   {
    "duration": 46,
    "start_time": "2022-06-11T11:49:51.323Z"
   },
   {
    "duration": 0,
    "start_time": "2022-06-11T11:49:51.371Z"
   },
   {
    "duration": 0,
    "start_time": "2022-06-11T11:49:51.372Z"
   },
   {
    "duration": 0,
    "start_time": "2022-06-11T11:49:51.373Z"
   },
   {
    "duration": 0,
    "start_time": "2022-06-11T11:49:51.374Z"
   },
   {
    "duration": 0,
    "start_time": "2022-06-11T11:49:51.376Z"
   },
   {
    "duration": 0,
    "start_time": "2022-06-11T11:49:51.377Z"
   },
   {
    "duration": 0,
    "start_time": "2022-06-11T11:49:51.378Z"
   },
   {
    "duration": 0,
    "start_time": "2022-06-11T11:49:51.379Z"
   },
   {
    "duration": 10,
    "start_time": "2022-06-11T11:50:31.947Z"
   },
   {
    "duration": 40,
    "start_time": "2022-06-11T11:50:52.828Z"
   },
   {
    "duration": 4,
    "start_time": "2022-06-11T11:51:35.072Z"
   },
   {
    "duration": 169,
    "start_time": "2022-06-11T11:51:35.078Z"
   },
   {
    "duration": 8,
    "start_time": "2022-06-11T11:51:35.250Z"
   },
   {
    "duration": 42,
    "start_time": "2022-06-11T11:51:35.260Z"
   },
   {
    "duration": 3,
    "start_time": "2022-06-11T11:51:35.304Z"
   },
   {
    "duration": 20,
    "start_time": "2022-06-11T11:51:35.309Z"
   },
   {
    "duration": 16,
    "start_time": "2022-06-11T11:51:35.331Z"
   },
   {
    "duration": 4,
    "start_time": "2022-06-11T11:51:35.349Z"
   },
   {
    "duration": 40,
    "start_time": "2022-06-11T11:51:35.355Z"
   },
   {
    "duration": 29,
    "start_time": "2022-06-11T11:51:35.399Z"
   },
   {
    "duration": 25,
    "start_time": "2022-06-11T11:51:35.430Z"
   },
   {
    "duration": 76,
    "start_time": "2022-06-11T11:51:35.456Z"
   },
   {
    "duration": 67,
    "start_time": "2022-06-11T11:51:35.534Z"
   },
   {
    "duration": 76,
    "start_time": "2022-06-11T11:51:35.603Z"
   },
   {
    "duration": 73,
    "start_time": "2022-06-11T11:51:35.681Z"
   },
   {
    "duration": 11,
    "start_time": "2022-06-11T11:51:35.756Z"
   },
   {
    "duration": 41,
    "start_time": "2022-06-11T11:51:35.769Z"
   },
   {
    "duration": 15,
    "start_time": "2022-06-11T11:51:35.812Z"
   },
   {
    "duration": 14,
    "start_time": "2022-06-11T11:51:35.829Z"
   },
   {
    "duration": 9,
    "start_time": "2022-06-11T11:51:35.844Z"
   },
   {
    "duration": 8,
    "start_time": "2022-06-11T11:51:35.856Z"
   },
   {
    "duration": 5,
    "start_time": "2022-06-11T11:51:35.866Z"
   },
   {
    "duration": 7,
    "start_time": "2022-06-11T11:51:35.873Z"
   },
   {
    "duration": 13,
    "start_time": "2022-06-11T11:51:35.882Z"
   },
   {
    "duration": 6,
    "start_time": "2022-06-11T11:51:35.897Z"
   },
   {
    "duration": 9,
    "start_time": "2022-06-11T11:51:35.905Z"
   },
   {
    "duration": 5,
    "start_time": "2022-06-11T11:51:35.916Z"
   },
   {
    "duration": 5,
    "start_time": "2022-06-11T11:51:35.924Z"
   },
   {
    "duration": 13,
    "start_time": "2022-06-11T11:51:35.931Z"
   },
   {
    "duration": 29,
    "start_time": "2022-06-11T11:51:35.946Z"
   },
   {
    "duration": 0,
    "start_time": "2022-06-11T11:51:35.976Z"
   },
   {
    "duration": 0,
    "start_time": "2022-06-11T11:51:35.978Z"
   },
   {
    "duration": 0,
    "start_time": "2022-06-11T11:51:35.979Z"
   },
   {
    "duration": 0,
    "start_time": "2022-06-11T11:51:35.980Z"
   },
   {
    "duration": 0,
    "start_time": "2022-06-11T11:51:35.982Z"
   },
   {
    "duration": 0,
    "start_time": "2022-06-11T11:51:35.983Z"
   },
   {
    "duration": 0,
    "start_time": "2022-06-11T11:51:35.985Z"
   },
   {
    "duration": 0,
    "start_time": "2022-06-11T11:51:35.986Z"
   },
   {
    "duration": 49,
    "start_time": "2022-06-11T11:54:01.296Z"
   },
   {
    "duration": 2,
    "start_time": "2022-06-11T11:54:05.746Z"
   },
   {
    "duration": 222,
    "start_time": "2022-06-11T11:54:05.751Z"
   },
   {
    "duration": 7,
    "start_time": "2022-06-11T11:54:05.975Z"
   },
   {
    "duration": 68,
    "start_time": "2022-06-11T11:54:05.984Z"
   },
   {
    "duration": 20,
    "start_time": "2022-06-11T11:54:06.055Z"
   },
   {
    "duration": 28,
    "start_time": "2022-06-11T11:54:06.077Z"
   },
   {
    "duration": 45,
    "start_time": "2022-06-11T11:54:06.108Z"
   },
   {
    "duration": 4,
    "start_time": "2022-06-11T11:54:06.155Z"
   },
   {
    "duration": 54,
    "start_time": "2022-06-11T11:54:06.161Z"
   },
   {
    "duration": 67,
    "start_time": "2022-06-11T11:54:06.217Z"
   },
   {
    "duration": 73,
    "start_time": "2022-06-11T11:54:06.286Z"
   },
   {
    "duration": 133,
    "start_time": "2022-06-11T11:54:06.361Z"
   },
   {
    "duration": 121,
    "start_time": "2022-06-11T11:54:06.497Z"
   },
   {
    "duration": 72,
    "start_time": "2022-06-11T11:54:06.621Z"
   },
   {
    "duration": 56,
    "start_time": "2022-06-11T11:54:06.695Z"
   },
   {
    "duration": 37,
    "start_time": "2022-06-11T11:54:06.752Z"
   },
   {
    "duration": 71,
    "start_time": "2022-06-11T11:54:06.791Z"
   },
   {
    "duration": 51,
    "start_time": "2022-06-11T11:54:41.640Z"
   },
   {
    "duration": 3,
    "start_time": "2022-06-11T11:54:41.692Z"
   },
   {
    "duration": 12,
    "start_time": "2022-06-11T11:54:41.696Z"
   },
   {
    "duration": 5,
    "start_time": "2022-06-11T11:54:41.710Z"
   },
   {
    "duration": 10,
    "start_time": "2022-06-11T11:54:41.717Z"
   },
   {
    "duration": 6,
    "start_time": "2022-06-11T11:54:41.729Z"
   },
   {
    "duration": 8,
    "start_time": "2022-06-11T11:54:41.736Z"
   },
   {
    "duration": 5,
    "start_time": "2022-06-11T11:54:41.745Z"
   },
   {
    "duration": 6,
    "start_time": "2022-06-11T11:54:41.752Z"
   },
   {
    "duration": 4,
    "start_time": "2022-06-11T11:54:41.761Z"
   },
   {
    "duration": 5,
    "start_time": "2022-06-11T11:54:41.766Z"
   },
   {
    "duration": 7,
    "start_time": "2022-06-11T11:54:41.772Z"
   },
   {
    "duration": 6,
    "start_time": "2022-06-11T11:54:41.781Z"
   },
   {
    "duration": 25,
    "start_time": "2022-06-11T11:54:41.789Z"
   },
   {
    "duration": 0,
    "start_time": "2022-06-11T11:54:41.816Z"
   },
   {
    "duration": 0,
    "start_time": "2022-06-11T11:54:41.817Z"
   },
   {
    "duration": 0,
    "start_time": "2022-06-11T11:54:41.818Z"
   },
   {
    "duration": 0,
    "start_time": "2022-06-11T11:54:41.820Z"
   },
   {
    "duration": 0,
    "start_time": "2022-06-11T11:54:41.827Z"
   },
   {
    "duration": 0,
    "start_time": "2022-06-11T11:54:41.828Z"
   },
   {
    "duration": 0,
    "start_time": "2022-06-11T11:54:41.829Z"
   },
   {
    "duration": 0,
    "start_time": "2022-06-11T11:54:41.831Z"
   },
   {
    "duration": 3,
    "start_time": "2022-06-11T11:55:03.975Z"
   },
   {
    "duration": 223,
    "start_time": "2022-06-11T11:55:03.980Z"
   },
   {
    "duration": 10,
    "start_time": "2022-06-11T11:55:04.205Z"
   },
   {
    "duration": 66,
    "start_time": "2022-06-11T11:55:04.217Z"
   },
   {
    "duration": 27,
    "start_time": "2022-06-11T11:55:04.286Z"
   },
   {
    "duration": 26,
    "start_time": "2022-06-11T11:55:04.315Z"
   },
   {
    "duration": 42,
    "start_time": "2022-06-11T11:55:04.343Z"
   },
   {
    "duration": 45,
    "start_time": "2022-06-11T11:55:04.387Z"
   },
   {
    "duration": 57,
    "start_time": "2022-06-11T11:55:04.434Z"
   },
   {
    "duration": 43,
    "start_time": "2022-06-11T11:55:04.493Z"
   },
   {
    "duration": 46,
    "start_time": "2022-06-11T11:55:04.538Z"
   },
   {
    "duration": 82,
    "start_time": "2022-06-11T11:55:04.586Z"
   },
   {
    "duration": 91,
    "start_time": "2022-06-11T11:55:04.669Z"
   },
   {
    "duration": 72,
    "start_time": "2022-06-11T11:55:04.764Z"
   },
   {
    "duration": 42,
    "start_time": "2022-06-11T11:55:04.838Z"
   },
   {
    "duration": 10,
    "start_time": "2022-06-11T11:55:04.883Z"
   },
   {
    "duration": 57,
    "start_time": "2022-06-11T11:55:04.895Z"
   },
   {
    "duration": 2,
    "start_time": "2022-06-11T11:55:04.954Z"
   },
   {
    "duration": 15,
    "start_time": "2022-06-11T11:55:04.957Z"
   },
   {
    "duration": 30,
    "start_time": "2022-06-11T11:55:04.973Z"
   },
   {
    "duration": 24,
    "start_time": "2022-06-11T11:55:05.005Z"
   },
   {
    "duration": 38,
    "start_time": "2022-06-11T11:55:05.031Z"
   },
   {
    "duration": 37,
    "start_time": "2022-06-11T11:55:05.071Z"
   },
   {
    "duration": 56,
    "start_time": "2022-06-11T11:55:05.109Z"
   },
   {
    "duration": 23,
    "start_time": "2022-06-11T11:55:05.168Z"
   },
   {
    "duration": 27,
    "start_time": "2022-06-11T11:55:05.193Z"
   },
   {
    "duration": 61,
    "start_time": "2022-06-11T11:55:05.222Z"
   },
   {
    "duration": 36,
    "start_time": "2022-06-11T11:55:05.285Z"
   },
   {
    "duration": 21,
    "start_time": "2022-06-11T11:55:05.323Z"
   },
   {
    "duration": 34,
    "start_time": "2022-06-11T11:55:05.347Z"
   },
   {
    "duration": 0,
    "start_time": "2022-06-11T11:55:05.384Z"
   },
   {
    "duration": 0,
    "start_time": "2022-06-11T11:55:05.387Z"
   },
   {
    "duration": 0,
    "start_time": "2022-06-11T11:55:05.389Z"
   },
   {
    "duration": 0,
    "start_time": "2022-06-11T11:55:05.390Z"
   },
   {
    "duration": 0,
    "start_time": "2022-06-11T11:55:05.391Z"
   },
   {
    "duration": 0,
    "start_time": "2022-06-11T11:55:05.393Z"
   },
   {
    "duration": 1,
    "start_time": "2022-06-11T11:55:05.394Z"
   },
   {
    "duration": 0,
    "start_time": "2022-06-11T11:55:05.396Z"
   },
   {
    "duration": 36,
    "start_time": "2022-06-11T11:55:41.364Z"
   },
   {
    "duration": 21,
    "start_time": "2022-06-11T12:00:37.610Z"
   },
   {
    "duration": 27,
    "start_time": "2022-06-11T12:04:13.398Z"
   },
   {
    "duration": 12,
    "start_time": "2022-06-11T12:06:53.501Z"
   },
   {
    "duration": 12,
    "start_time": "2022-06-11T12:07:06.005Z"
   },
   {
    "duration": 11,
    "start_time": "2022-06-11T12:08:51.849Z"
   },
   {
    "duration": 47,
    "start_time": "2022-06-11T15:58:16.635Z"
   },
   {
    "duration": 369,
    "start_time": "2022-06-11T15:58:32.259Z"
   },
   {
    "duration": 231,
    "start_time": "2022-06-11T15:58:32.630Z"
   },
   {
    "duration": 8,
    "start_time": "2022-06-11T15:58:32.863Z"
   },
   {
    "duration": 32,
    "start_time": "2022-06-11T15:58:32.873Z"
   },
   {
    "duration": 2,
    "start_time": "2022-06-11T15:58:32.907Z"
   },
   {
    "duration": 11,
    "start_time": "2022-06-11T15:58:32.910Z"
   },
   {
    "duration": 16,
    "start_time": "2022-06-11T15:58:32.923Z"
   },
   {
    "duration": 7,
    "start_time": "2022-06-11T15:58:32.941Z"
   },
   {
    "duration": 34,
    "start_time": "2022-06-11T15:58:32.950Z"
   },
   {
    "duration": 30,
    "start_time": "2022-06-11T15:58:32.986Z"
   },
   {
    "duration": 46,
    "start_time": "2022-06-11T15:58:33.019Z"
   },
   {
    "duration": 78,
    "start_time": "2022-06-11T15:58:33.067Z"
   },
   {
    "duration": 79,
    "start_time": "2022-06-11T15:58:33.148Z"
   },
   {
    "duration": 70,
    "start_time": "2022-06-11T15:58:33.230Z"
   },
   {
    "duration": 51,
    "start_time": "2022-06-11T15:58:33.302Z"
   },
   {
    "duration": 10,
    "start_time": "2022-06-11T15:58:33.354Z"
   },
   {
    "duration": 36,
    "start_time": "2022-06-11T15:58:33.366Z"
   },
   {
    "duration": 49,
    "start_time": "2022-06-11T15:58:33.403Z"
   },
   {
    "duration": 0,
    "start_time": "2022-06-11T15:58:33.454Z"
   },
   {
    "duration": 0,
    "start_time": "2022-06-11T15:58:33.455Z"
   },
   {
    "duration": 0,
    "start_time": "2022-06-11T15:58:33.456Z"
   },
   {
    "duration": 0,
    "start_time": "2022-06-11T15:58:33.457Z"
   },
   {
    "duration": 0,
    "start_time": "2022-06-11T15:58:33.459Z"
   },
   {
    "duration": 0,
    "start_time": "2022-06-11T15:58:33.460Z"
   },
   {
    "duration": 0,
    "start_time": "2022-06-11T15:58:33.461Z"
   },
   {
    "duration": 0,
    "start_time": "2022-06-11T15:58:33.462Z"
   },
   {
    "duration": 0,
    "start_time": "2022-06-11T15:58:33.463Z"
   },
   {
    "duration": 0,
    "start_time": "2022-06-11T15:58:33.464Z"
   },
   {
    "duration": 0,
    "start_time": "2022-06-11T15:58:33.465Z"
   },
   {
    "duration": 0,
    "start_time": "2022-06-11T15:58:33.466Z"
   },
   {
    "duration": 0,
    "start_time": "2022-06-11T15:58:33.467Z"
   },
   {
    "duration": 0,
    "start_time": "2022-06-11T15:58:33.468Z"
   },
   {
    "duration": 0,
    "start_time": "2022-06-11T15:58:33.469Z"
   },
   {
    "duration": 0,
    "start_time": "2022-06-11T15:58:33.470Z"
   },
   {
    "duration": 0,
    "start_time": "2022-06-11T15:58:33.471Z"
   },
   {
    "duration": 0,
    "start_time": "2022-06-11T15:58:33.472Z"
   },
   {
    "duration": 0,
    "start_time": "2022-06-11T15:58:33.473Z"
   },
   {
    "duration": 0,
    "start_time": "2022-06-11T15:58:33.474Z"
   },
   {
    "duration": 12,
    "start_time": "2022-06-11T15:59:03.619Z"
   },
   {
    "duration": 27,
    "start_time": "2022-06-11T16:03:22.548Z"
   },
   {
    "duration": 61,
    "start_time": "2022-06-11T16:05:39.544Z"
   },
   {
    "duration": 41,
    "start_time": "2022-06-11T16:06:01.124Z"
   },
   {
    "duration": 3,
    "start_time": "2022-06-11T16:06:19.656Z"
   },
   {
    "duration": 181,
    "start_time": "2022-06-11T16:06:19.661Z"
   },
   {
    "duration": 6,
    "start_time": "2022-06-11T16:06:19.844Z"
   },
   {
    "duration": 30,
    "start_time": "2022-06-11T16:06:19.852Z"
   },
   {
    "duration": 3,
    "start_time": "2022-06-11T16:06:19.884Z"
   },
   {
    "duration": 12,
    "start_time": "2022-06-11T16:06:19.888Z"
   },
   {
    "duration": 15,
    "start_time": "2022-06-11T16:06:19.901Z"
   },
   {
    "duration": 6,
    "start_time": "2022-06-11T16:06:19.926Z"
   },
   {
    "duration": 36,
    "start_time": "2022-06-11T16:06:19.934Z"
   },
   {
    "duration": 30,
    "start_time": "2022-06-11T16:06:19.972Z"
   },
   {
    "duration": 22,
    "start_time": "2022-06-11T16:06:20.004Z"
   },
   {
    "duration": 69,
    "start_time": "2022-06-11T16:06:20.032Z"
   },
   {
    "duration": 66,
    "start_time": "2022-06-11T16:06:20.103Z"
   },
   {
    "duration": 72,
    "start_time": "2022-06-11T16:06:20.171Z"
   },
   {
    "duration": 52,
    "start_time": "2022-06-11T16:06:20.246Z"
   },
   {
    "duration": 13,
    "start_time": "2022-06-11T16:06:20.300Z"
   },
   {
    "duration": 54,
    "start_time": "2022-06-11T16:06:20.315Z"
   },
   {
    "duration": 29,
    "start_time": "2022-06-11T16:06:20.371Z"
   },
   {
    "duration": 2,
    "start_time": "2022-06-11T16:06:20.402Z"
   },
   {
    "duration": 24,
    "start_time": "2022-06-11T16:06:20.406Z"
   },
   {
    "duration": 18,
    "start_time": "2022-06-11T16:06:20.434Z"
   },
   {
    "duration": 8,
    "start_time": "2022-06-11T16:06:20.454Z"
   },
   {
    "duration": 9,
    "start_time": "2022-06-11T16:06:20.464Z"
   },
   {
    "duration": 10,
    "start_time": "2022-06-11T16:06:20.475Z"
   },
   {
    "duration": 15,
    "start_time": "2022-06-11T16:06:20.487Z"
   },
   {
    "duration": 10,
    "start_time": "2022-06-11T16:06:20.504Z"
   },
   {
    "duration": 8,
    "start_time": "2022-06-11T16:06:20.515Z"
   },
   {
    "duration": 26,
    "start_time": "2022-06-11T16:06:20.525Z"
   },
   {
    "duration": 3,
    "start_time": "2022-06-11T16:06:20.555Z"
   },
   {
    "duration": 22,
    "start_time": "2022-06-11T16:06:20.560Z"
   },
   {
    "duration": 0,
    "start_time": "2022-06-11T16:06:20.584Z"
   },
   {
    "duration": 0,
    "start_time": "2022-06-11T16:06:20.585Z"
   },
   {
    "duration": 0,
    "start_time": "2022-06-11T16:06:20.587Z"
   },
   {
    "duration": 0,
    "start_time": "2022-06-11T16:06:20.589Z"
   },
   {
    "duration": 0,
    "start_time": "2022-06-11T16:06:20.590Z"
   },
   {
    "duration": 0,
    "start_time": "2022-06-11T16:06:20.591Z"
   },
   {
    "duration": 0,
    "start_time": "2022-06-11T16:06:20.593Z"
   },
   {
    "duration": 0,
    "start_time": "2022-06-11T16:06:20.594Z"
   },
   {
    "duration": 40,
    "start_time": "2022-06-11T16:07:30.017Z"
   },
   {
    "duration": 32,
    "start_time": "2022-06-11T16:07:57.144Z"
   },
   {
    "duration": 42,
    "start_time": "2022-06-11T16:08:02.114Z"
   },
   {
    "duration": 53,
    "start_time": "2022-06-11T16:08:30.565Z"
   },
   {
    "duration": 3,
    "start_time": "2022-06-11T16:08:30.621Z"
   },
   {
    "duration": 52,
    "start_time": "2022-06-11T16:08:30.626Z"
   },
   {
    "duration": 28,
    "start_time": "2022-06-11T16:08:30.681Z"
   },
   {
    "duration": 11,
    "start_time": "2022-06-11T16:08:30.711Z"
   },
   {
    "duration": 28,
    "start_time": "2022-06-11T16:08:30.724Z"
   },
   {
    "duration": 12,
    "start_time": "2022-06-11T16:08:30.755Z"
   },
   {
    "duration": 16,
    "start_time": "2022-06-11T16:08:30.769Z"
   },
   {
    "duration": 15,
    "start_time": "2022-06-11T16:08:30.787Z"
   },
   {
    "duration": 9,
    "start_time": "2022-06-11T16:08:30.806Z"
   },
   {
    "duration": 7,
    "start_time": "2022-06-11T16:08:30.817Z"
   },
   {
    "duration": 29,
    "start_time": "2022-06-11T16:08:30.826Z"
   },
   {
    "duration": 27,
    "start_time": "2022-06-11T16:08:30.857Z"
   },
   {
    "duration": 0,
    "start_time": "2022-06-11T16:08:30.886Z"
   },
   {
    "duration": 0,
    "start_time": "2022-06-11T16:08:30.888Z"
   },
   {
    "duration": 0,
    "start_time": "2022-06-11T16:08:30.890Z"
   },
   {
    "duration": 0,
    "start_time": "2022-06-11T16:08:30.891Z"
   },
   {
    "duration": 0,
    "start_time": "2022-06-11T16:08:30.893Z"
   },
   {
    "duration": 0,
    "start_time": "2022-06-11T16:08:30.894Z"
   },
   {
    "duration": 0,
    "start_time": "2022-06-11T16:08:30.896Z"
   },
   {
    "duration": 1,
    "start_time": "2022-06-11T16:08:30.897Z"
   },
   {
    "duration": 53,
    "start_time": "2022-06-11T16:09:12.096Z"
   },
   {
    "duration": 3,
    "start_time": "2022-06-11T16:09:42.453Z"
   },
   {
    "duration": 221,
    "start_time": "2022-06-11T16:09:42.458Z"
   },
   {
    "duration": 9,
    "start_time": "2022-06-11T16:09:42.682Z"
   },
   {
    "duration": 76,
    "start_time": "2022-06-11T16:09:42.694Z"
   },
   {
    "duration": 11,
    "start_time": "2022-06-11T16:09:42.773Z"
   },
   {
    "duration": 9,
    "start_time": "2022-06-11T16:09:42.786Z"
   },
   {
    "duration": 13,
    "start_time": "2022-06-11T16:09:42.797Z"
   },
   {
    "duration": 6,
    "start_time": "2022-06-11T16:09:42.812Z"
   },
   {
    "duration": 58,
    "start_time": "2022-06-11T16:09:42.820Z"
   },
   {
    "duration": 35,
    "start_time": "2022-06-11T16:09:42.880Z"
   },
   {
    "duration": 58,
    "start_time": "2022-06-11T16:09:42.918Z"
   },
   {
    "duration": 112,
    "start_time": "2022-06-11T16:09:42.978Z"
   },
   {
    "duration": 75,
    "start_time": "2022-06-11T16:09:43.091Z"
   },
   {
    "duration": 66,
    "start_time": "2022-06-11T16:09:43.169Z"
   },
   {
    "duration": 65,
    "start_time": "2022-06-11T16:09:43.240Z"
   },
   {
    "duration": 14,
    "start_time": "2022-06-11T16:09:43.306Z"
   },
   {
    "duration": 74,
    "start_time": "2022-06-11T16:09:43.322Z"
   },
   {
    "duration": 35,
    "start_time": "2022-06-11T16:09:43.397Z"
   },
   {
    "duration": 7,
    "start_time": "2022-06-11T16:09:43.438Z"
   },
   {
    "duration": 6,
    "start_time": "2022-06-11T16:09:43.447Z"
   },
   {
    "duration": 13,
    "start_time": "2022-06-11T16:09:43.455Z"
   },
   {
    "duration": 5,
    "start_time": "2022-06-11T16:09:43.470Z"
   },
   {
    "duration": 7,
    "start_time": "2022-06-11T16:09:43.476Z"
   },
   {
    "duration": 6,
    "start_time": "2022-06-11T16:09:43.484Z"
   },
   {
    "duration": 8,
    "start_time": "2022-06-11T16:09:43.492Z"
   },
   {
    "duration": 5,
    "start_time": "2022-06-11T16:09:43.503Z"
   },
   {
    "duration": 7,
    "start_time": "2022-06-11T16:09:43.510Z"
   },
   {
    "duration": 27,
    "start_time": "2022-06-11T16:09:43.518Z"
   },
   {
    "duration": 6,
    "start_time": "2022-06-11T16:09:43.547Z"
   },
   {
    "duration": 23,
    "start_time": "2022-06-11T16:09:43.555Z"
   },
   {
    "duration": 0,
    "start_time": "2022-06-11T16:09:43.580Z"
   },
   {
    "duration": 0,
    "start_time": "2022-06-11T16:09:43.582Z"
   },
   {
    "duration": 0,
    "start_time": "2022-06-11T16:09:43.583Z"
   },
   {
    "duration": 0,
    "start_time": "2022-06-11T16:09:43.584Z"
   },
   {
    "duration": 0,
    "start_time": "2022-06-11T16:09:43.585Z"
   },
   {
    "duration": 0,
    "start_time": "2022-06-11T16:09:43.587Z"
   },
   {
    "duration": 0,
    "start_time": "2022-06-11T16:09:43.588Z"
   },
   {
    "duration": 0,
    "start_time": "2022-06-11T16:09:43.589Z"
   },
   {
    "duration": 12,
    "start_time": "2022-06-11T16:11:11.212Z"
   },
   {
    "duration": 40,
    "start_time": "2022-06-11T16:15:31.135Z"
   },
   {
    "duration": 16,
    "start_time": "2022-06-11T16:17:16.362Z"
   },
   {
    "duration": 9,
    "start_time": "2022-06-11T16:17:39.163Z"
   },
   {
    "duration": 11,
    "start_time": "2022-06-11T16:17:48.446Z"
   },
   {
    "duration": 5,
    "start_time": "2022-06-11T16:24:49.687Z"
   },
   {
    "duration": 4,
    "start_time": "2022-06-11T16:28:07.600Z"
   },
   {
    "duration": 3,
    "start_time": "2022-06-11T16:36:52.710Z"
   },
   {
    "duration": 22,
    "start_time": "2022-06-11T16:38:18.815Z"
   },
   {
    "duration": 7,
    "start_time": "2022-06-11T16:44:13.398Z"
   },
   {
    "duration": 3,
    "start_time": "2022-06-11T16:45:15.087Z"
   },
   {
    "duration": 231,
    "start_time": "2022-06-11T16:45:15.092Z"
   },
   {
    "duration": 10,
    "start_time": "2022-06-11T16:45:15.325Z"
   },
   {
    "duration": 50,
    "start_time": "2022-06-11T16:45:15.336Z"
   },
   {
    "duration": 3,
    "start_time": "2022-06-11T16:45:15.389Z"
   },
   {
    "duration": 10,
    "start_time": "2022-06-11T16:45:15.393Z"
   },
   {
    "duration": 26,
    "start_time": "2022-06-11T16:45:15.405Z"
   },
   {
    "duration": 19,
    "start_time": "2022-06-11T16:45:15.433Z"
   },
   {
    "duration": 32,
    "start_time": "2022-06-11T16:45:15.454Z"
   },
   {
    "duration": 31,
    "start_time": "2022-06-11T16:45:15.489Z"
   },
   {
    "duration": 66,
    "start_time": "2022-06-11T16:45:15.525Z"
   },
   {
    "duration": 99,
    "start_time": "2022-06-11T16:45:15.593Z"
   },
   {
    "duration": 94,
    "start_time": "2022-06-11T16:45:15.694Z"
   },
   {
    "duration": 81,
    "start_time": "2022-06-11T16:45:15.790Z"
   },
   {
    "duration": 61,
    "start_time": "2022-06-11T16:45:15.874Z"
   },
   {
    "duration": 10,
    "start_time": "2022-06-11T16:45:15.937Z"
   },
   {
    "duration": 43,
    "start_time": "2022-06-11T16:45:15.949Z"
   },
   {
    "duration": 35,
    "start_time": "2022-06-11T16:45:15.993Z"
   },
   {
    "duration": 15,
    "start_time": "2022-06-11T16:45:16.031Z"
   },
   {
    "duration": 5,
    "start_time": "2022-06-11T16:45:16.049Z"
   },
   {
    "duration": 33,
    "start_time": "2022-06-11T16:45:16.056Z"
   },
   {
    "duration": 43,
    "start_time": "2022-06-11T16:45:16.091Z"
   },
   {
    "duration": 23,
    "start_time": "2022-06-11T16:45:16.136Z"
   },
   {
    "duration": 22,
    "start_time": "2022-06-11T16:45:16.161Z"
   },
   {
    "duration": 54,
    "start_time": "2022-06-11T16:45:16.186Z"
   },
   {
    "duration": 24,
    "start_time": "2022-06-11T16:45:16.243Z"
   },
   {
    "duration": 17,
    "start_time": "2022-06-11T16:45:16.270Z"
   },
   {
    "duration": 19,
    "start_time": "2022-06-11T16:45:16.289Z"
   },
   {
    "duration": 17,
    "start_time": "2022-06-11T16:45:16.314Z"
   },
   {
    "duration": 50,
    "start_time": "2022-06-11T16:45:16.334Z"
   },
   {
    "duration": 0,
    "start_time": "2022-06-11T16:45:16.386Z"
   },
   {
    "duration": 0,
    "start_time": "2022-06-11T16:45:16.388Z"
   },
   {
    "duration": 0,
    "start_time": "2022-06-11T16:45:16.392Z"
   },
   {
    "duration": 0,
    "start_time": "2022-06-11T16:45:16.393Z"
   },
   {
    "duration": 0,
    "start_time": "2022-06-11T16:45:16.397Z"
   },
   {
    "duration": 0,
    "start_time": "2022-06-11T16:45:16.398Z"
   },
   {
    "duration": 0,
    "start_time": "2022-06-11T16:45:16.400Z"
   },
   {
    "duration": 0,
    "start_time": "2022-06-11T16:45:16.401Z"
   },
   {
    "duration": 7,
    "start_time": "2022-06-11T16:47:06.878Z"
   },
   {
    "duration": 8,
    "start_time": "2022-06-11T16:49:22.736Z"
   },
   {
    "duration": 7,
    "start_time": "2022-06-11T16:49:51.990Z"
   },
   {
    "duration": 3,
    "start_time": "2022-06-11T16:50:22.161Z"
   },
   {
    "duration": 178,
    "start_time": "2022-06-11T16:50:22.166Z"
   },
   {
    "duration": 7,
    "start_time": "2022-06-11T16:50:22.345Z"
   },
   {
    "duration": 29,
    "start_time": "2022-06-11T16:50:22.354Z"
   },
   {
    "duration": 6,
    "start_time": "2022-06-11T16:50:22.385Z"
   },
   {
    "duration": 8,
    "start_time": "2022-06-11T16:50:22.392Z"
   },
   {
    "duration": 26,
    "start_time": "2022-06-11T16:50:22.401Z"
   },
   {
    "duration": 3,
    "start_time": "2022-06-11T16:50:22.429Z"
   },
   {
    "duration": 35,
    "start_time": "2022-06-11T16:50:22.433Z"
   },
   {
    "duration": 22,
    "start_time": "2022-06-11T16:50:22.470Z"
   },
   {
    "duration": 23,
    "start_time": "2022-06-11T16:50:22.494Z"
   },
   {
    "duration": 58,
    "start_time": "2022-06-11T16:50:22.527Z"
   },
   {
    "duration": 78,
    "start_time": "2022-06-11T16:50:22.587Z"
   },
   {
    "duration": 67,
    "start_time": "2022-06-11T16:50:22.668Z"
   },
   {
    "duration": 38,
    "start_time": "2022-06-11T16:50:22.737Z"
   },
   {
    "duration": 10,
    "start_time": "2022-06-11T16:50:22.777Z"
   },
   {
    "duration": 55,
    "start_time": "2022-06-11T16:50:22.789Z"
   },
   {
    "duration": 10,
    "start_time": "2022-06-11T16:50:22.846Z"
   },
   {
    "duration": 10,
    "start_time": "2022-06-11T16:50:22.857Z"
   },
   {
    "duration": 5,
    "start_time": "2022-06-11T16:50:22.868Z"
   },
   {
    "duration": 25,
    "start_time": "2022-06-11T16:50:22.874Z"
   },
   {
    "duration": 31,
    "start_time": "2022-06-11T16:50:22.901Z"
   },
   {
    "duration": 14,
    "start_time": "2022-06-11T16:50:22.933Z"
   },
   {
    "duration": 12,
    "start_time": "2022-06-11T16:50:22.949Z"
   },
   {
    "duration": 20,
    "start_time": "2022-06-11T16:50:22.962Z"
   },
   {
    "duration": 44,
    "start_time": "2022-06-11T16:50:22.984Z"
   },
   {
    "duration": 6,
    "start_time": "2022-06-11T16:50:23.030Z"
   },
   {
    "duration": 11,
    "start_time": "2022-06-11T16:50:23.037Z"
   },
   {
    "duration": 0,
    "start_time": "2022-06-11T16:50:23.049Z"
   },
   {
    "duration": 0,
    "start_time": "2022-06-11T16:50:23.051Z"
   },
   {
    "duration": 0,
    "start_time": "2022-06-11T16:50:23.052Z"
   },
   {
    "duration": 0,
    "start_time": "2022-06-11T16:50:23.053Z"
   },
   {
    "duration": 0,
    "start_time": "2022-06-11T16:50:23.054Z"
   },
   {
    "duration": 0,
    "start_time": "2022-06-11T16:50:23.055Z"
   },
   {
    "duration": 0,
    "start_time": "2022-06-11T16:50:23.056Z"
   },
   {
    "duration": 0,
    "start_time": "2022-06-11T16:50:23.058Z"
   },
   {
    "duration": 0,
    "start_time": "2022-06-11T16:50:23.059Z"
   },
   {
    "duration": 0,
    "start_time": "2022-06-11T16:50:23.060Z"
   },
   {
    "duration": 7,
    "start_time": "2022-06-11T16:50:34.677Z"
   },
   {
    "duration": 3,
    "start_time": "2022-06-11T16:50:48.533Z"
   },
   {
    "duration": 178,
    "start_time": "2022-06-11T16:50:48.538Z"
   },
   {
    "duration": 8,
    "start_time": "2022-06-11T16:50:48.719Z"
   },
   {
    "duration": 41,
    "start_time": "2022-06-11T16:50:48.728Z"
   },
   {
    "duration": 2,
    "start_time": "2022-06-11T16:50:48.772Z"
   },
   {
    "duration": 7,
    "start_time": "2022-06-11T16:50:48.776Z"
   },
   {
    "duration": 12,
    "start_time": "2022-06-11T16:50:48.785Z"
   },
   {
    "duration": 4,
    "start_time": "2022-06-11T16:50:48.798Z"
   },
   {
    "duration": 36,
    "start_time": "2022-06-11T16:50:48.804Z"
   },
   {
    "duration": 21,
    "start_time": "2022-06-11T16:50:48.842Z"
   },
   {
    "duration": 26,
    "start_time": "2022-06-11T16:50:48.864Z"
   },
   {
    "duration": 76,
    "start_time": "2022-06-11T16:50:48.891Z"
   },
   {
    "duration": 69,
    "start_time": "2022-06-11T16:50:48.969Z"
   },
   {
    "duration": 56,
    "start_time": "2022-06-11T16:50:49.041Z"
   },
   {
    "duration": 66,
    "start_time": "2022-06-11T16:50:49.098Z"
   },
   {
    "duration": 10,
    "start_time": "2022-06-11T16:50:49.166Z"
   },
   {
    "duration": 50,
    "start_time": "2022-06-11T16:50:49.177Z"
   },
   {
    "duration": 10,
    "start_time": "2022-06-11T16:50:49.229Z"
   },
   {
    "duration": 15,
    "start_time": "2022-06-11T16:50:49.240Z"
   },
   {
    "duration": 5,
    "start_time": "2022-06-11T16:50:49.257Z"
   },
   {
    "duration": 25,
    "start_time": "2022-06-11T16:50:49.264Z"
   },
   {
    "duration": 40,
    "start_time": "2022-06-11T16:50:49.291Z"
   },
   {
    "duration": 17,
    "start_time": "2022-06-11T16:50:49.333Z"
   },
   {
    "duration": 16,
    "start_time": "2022-06-11T16:50:49.352Z"
   },
   {
    "duration": 16,
    "start_time": "2022-06-11T16:50:49.370Z"
   },
   {
    "duration": 39,
    "start_time": "2022-06-11T16:50:49.388Z"
   },
   {
    "duration": 10,
    "start_time": "2022-06-11T16:50:49.429Z"
   },
   {
    "duration": 14,
    "start_time": "2022-06-11T16:50:49.441Z"
   },
   {
    "duration": 0,
    "start_time": "2022-06-11T16:50:49.457Z"
   },
   {
    "duration": 0,
    "start_time": "2022-06-11T16:50:49.459Z"
   },
   {
    "duration": 0,
    "start_time": "2022-06-11T16:50:49.460Z"
   },
   {
    "duration": 0,
    "start_time": "2022-06-11T16:50:49.461Z"
   },
   {
    "duration": 0,
    "start_time": "2022-06-11T16:50:49.462Z"
   },
   {
    "duration": 0,
    "start_time": "2022-06-11T16:50:49.464Z"
   },
   {
    "duration": 0,
    "start_time": "2022-06-11T16:50:49.465Z"
   },
   {
    "duration": 0,
    "start_time": "2022-06-11T16:50:49.466Z"
   },
   {
    "duration": 0,
    "start_time": "2022-06-11T16:50:49.467Z"
   },
   {
    "duration": 0,
    "start_time": "2022-06-11T16:50:49.468Z"
   },
   {
    "duration": 375,
    "start_time": "2022-06-11T16:53:50.692Z"
   },
   {
    "duration": 188,
    "start_time": "2022-06-11T16:53:51.069Z"
   },
   {
    "duration": 11,
    "start_time": "2022-06-11T16:53:51.260Z"
   },
   {
    "duration": 48,
    "start_time": "2022-06-11T16:53:51.272Z"
   },
   {
    "duration": 2,
    "start_time": "2022-06-11T16:53:51.322Z"
   },
   {
    "duration": 23,
    "start_time": "2022-06-11T16:53:51.326Z"
   },
   {
    "duration": 29,
    "start_time": "2022-06-11T16:53:51.351Z"
   },
   {
    "duration": 11,
    "start_time": "2022-06-11T16:53:51.382Z"
   },
   {
    "duration": 28,
    "start_time": "2022-06-11T16:53:51.395Z"
   },
   {
    "duration": 31,
    "start_time": "2022-06-11T16:53:51.427Z"
   },
   {
    "duration": 22,
    "start_time": "2022-06-11T16:53:51.460Z"
   },
   {
    "duration": 80,
    "start_time": "2022-06-11T16:53:51.484Z"
   },
   {
    "duration": 77,
    "start_time": "2022-06-11T16:53:51.565Z"
   },
   {
    "duration": 54,
    "start_time": "2022-06-11T16:53:51.644Z"
   },
   {
    "duration": 48,
    "start_time": "2022-06-11T16:53:51.700Z"
   },
   {
    "duration": 9,
    "start_time": "2022-06-11T16:53:51.750Z"
   },
   {
    "duration": 35,
    "start_time": "2022-06-11T16:53:51.760Z"
   },
   {
    "duration": 9,
    "start_time": "2022-06-11T16:53:51.797Z"
   },
   {
    "duration": 31,
    "start_time": "2022-06-11T16:53:51.807Z"
   },
   {
    "duration": 11,
    "start_time": "2022-06-11T16:53:51.839Z"
   },
   {
    "duration": 24,
    "start_time": "2022-06-11T16:53:51.851Z"
   },
   {
    "duration": 11,
    "start_time": "2022-06-11T16:53:51.877Z"
   },
   {
    "duration": 13,
    "start_time": "2022-06-11T16:53:51.889Z"
   },
   {
    "duration": 10,
    "start_time": "2022-06-11T16:53:51.903Z"
   },
   {
    "duration": 21,
    "start_time": "2022-06-11T16:53:51.929Z"
   },
   {
    "duration": 12,
    "start_time": "2022-06-11T16:53:51.952Z"
   },
   {
    "duration": 6,
    "start_time": "2022-06-11T16:53:51.966Z"
   },
   {
    "duration": 10,
    "start_time": "2022-06-11T16:53:51.975Z"
   },
   {
    "duration": 9,
    "start_time": "2022-06-11T16:53:51.987Z"
   },
   {
    "duration": 10,
    "start_time": "2022-06-11T16:53:52.030Z"
   },
   {
    "duration": 0,
    "start_time": "2022-06-11T16:53:52.041Z"
   },
   {
    "duration": 0,
    "start_time": "2022-06-11T16:53:52.043Z"
   },
   {
    "duration": 0,
    "start_time": "2022-06-11T16:53:52.044Z"
   },
   {
    "duration": 0,
    "start_time": "2022-06-11T16:53:52.045Z"
   },
   {
    "duration": 0,
    "start_time": "2022-06-11T16:53:52.046Z"
   },
   {
    "duration": 0,
    "start_time": "2022-06-11T16:53:52.047Z"
   },
   {
    "duration": 0,
    "start_time": "2022-06-11T16:53:52.048Z"
   },
   {
    "duration": 0,
    "start_time": "2022-06-11T16:53:52.049Z"
   },
   {
    "duration": 4,
    "start_time": "2022-06-11T16:58:03.085Z"
   },
   {
    "duration": 79,
    "start_time": "2022-06-11T17:05:44.190Z"
   },
   {
    "duration": 403,
    "start_time": "2022-06-11T17:06:00.317Z"
   },
   {
    "duration": 178,
    "start_time": "2022-06-11T17:06:00.722Z"
   },
   {
    "duration": 8,
    "start_time": "2022-06-11T17:06:00.901Z"
   },
   {
    "duration": 43,
    "start_time": "2022-06-11T17:06:00.911Z"
   },
   {
    "duration": 2,
    "start_time": "2022-06-11T17:06:00.956Z"
   },
   {
    "duration": 18,
    "start_time": "2022-06-11T17:06:00.959Z"
   },
   {
    "duration": 24,
    "start_time": "2022-06-11T17:06:00.979Z"
   },
   {
    "duration": 16,
    "start_time": "2022-06-11T17:06:01.005Z"
   },
   {
    "duration": 48,
    "start_time": "2022-06-11T17:06:01.023Z"
   },
   {
    "duration": 34,
    "start_time": "2022-06-11T17:06:01.074Z"
   },
   {
    "duration": 91,
    "start_time": "2022-06-11T17:06:01.110Z"
   },
   {
    "duration": 78,
    "start_time": "2022-06-11T17:06:01.203Z"
   },
   {
    "duration": 99,
    "start_time": "2022-06-11T17:06:01.283Z"
   },
   {
    "duration": 68,
    "start_time": "2022-06-11T17:06:01.383Z"
   },
   {
    "duration": 36,
    "start_time": "2022-06-11T17:06:01.453Z"
   },
   {
    "duration": 17,
    "start_time": "2022-06-11T17:06:01.491Z"
   },
   {
    "duration": 55,
    "start_time": "2022-06-11T17:06:01.509Z"
   },
   {
    "duration": 40,
    "start_time": "2022-06-11T17:06:01.566Z"
   },
   {
    "duration": 27,
    "start_time": "2022-06-11T17:06:01.608Z"
   },
   {
    "duration": 23,
    "start_time": "2022-06-11T17:06:01.636Z"
   },
   {
    "duration": 35,
    "start_time": "2022-06-11T17:06:01.660Z"
   },
   {
    "duration": 15,
    "start_time": "2022-06-11T17:06:01.697Z"
   },
   {
    "duration": 46,
    "start_time": "2022-06-11T17:06:01.714Z"
   },
   {
    "duration": 14,
    "start_time": "2022-06-11T17:06:01.762Z"
   },
   {
    "duration": 24,
    "start_time": "2022-06-11T17:06:01.778Z"
   },
   {
    "duration": 33,
    "start_time": "2022-06-11T17:06:01.804Z"
   },
   {
    "duration": 13,
    "start_time": "2022-06-11T17:06:01.842Z"
   },
   {
    "duration": 34,
    "start_time": "2022-06-11T17:06:01.861Z"
   },
   {
    "duration": 19,
    "start_time": "2022-06-11T17:06:01.898Z"
   },
   {
    "duration": 34,
    "start_time": "2022-06-11T17:06:01.919Z"
   },
   {
    "duration": 30,
    "start_time": "2022-06-11T17:06:01.956Z"
   },
   {
    "duration": 15,
    "start_time": "2022-06-11T17:06:01.988Z"
   },
   {
    "duration": 45,
    "start_time": "2022-06-11T17:06:02.005Z"
   },
   {
    "duration": 30,
    "start_time": "2022-06-11T17:06:02.052Z"
   },
   {
    "duration": 62,
    "start_time": "2022-06-11T17:06:02.084Z"
   },
   {
    "duration": 16,
    "start_time": "2022-06-11T17:06:02.148Z"
   },
   {
    "duration": 15,
    "start_time": "2022-06-11T17:06:02.166Z"
   },
   {
    "duration": 7,
    "start_time": "2022-06-11T17:06:02.184Z"
   },
   {
    "duration": 63,
    "start_time": "2022-06-11T17:20:00.303Z"
   },
   {
    "duration": 8,
    "start_time": "2022-06-11T17:20:04.984Z"
   },
   {
    "duration": 3,
    "start_time": "2022-06-11T17:20:06.980Z"
   },
   {
    "duration": 6,
    "start_time": "2022-06-11T17:20:24.676Z"
   },
   {
    "duration": 443,
    "start_time": "2023-03-12T07:18:42.262Z"
   },
   {
    "duration": 259,
    "start_time": "2023-03-12T07:18:42.707Z"
   },
   {
    "duration": 13,
    "start_time": "2023-03-12T07:18:42.969Z"
   },
   {
    "duration": 30,
    "start_time": "2023-03-12T07:18:42.984Z"
   },
   {
    "duration": 3,
    "start_time": "2023-03-12T07:18:43.017Z"
   },
   {
    "duration": 6,
    "start_time": "2023-03-12T07:18:43.022Z"
   },
   {
    "duration": 39,
    "start_time": "2023-03-12T07:18:43.030Z"
   },
   {
    "duration": 18,
    "start_time": "2023-03-12T07:18:43.072Z"
   },
   {
    "duration": 32,
    "start_time": "2023-03-12T07:18:43.091Z"
   },
   {
    "duration": 17,
    "start_time": "2023-03-12T07:18:43.125Z"
   },
   {
    "duration": 28,
    "start_time": "2023-03-12T07:18:43.156Z"
   },
   {
    "duration": 91,
    "start_time": "2023-03-12T07:18:43.186Z"
   },
   {
    "duration": 92,
    "start_time": "2023-03-12T07:18:43.281Z"
   },
   {
    "duration": 65,
    "start_time": "2023-03-12T07:18:43.377Z"
   },
   {
    "duration": 45,
    "start_time": "2023-03-12T07:18:43.456Z"
   },
   {
    "duration": 12,
    "start_time": "2023-03-12T07:18:43.503Z"
   },
   {
    "duration": 64,
    "start_time": "2023-03-12T07:18:43.516Z"
   },
   {
    "duration": 10,
    "start_time": "2023-03-12T07:18:43.582Z"
   },
   {
    "duration": 17,
    "start_time": "2023-03-12T07:18:43.594Z"
   },
   {
    "duration": 6,
    "start_time": "2023-03-12T07:18:43.613Z"
   },
   {
    "duration": 40,
    "start_time": "2023-03-12T07:18:43.621Z"
   },
   {
    "duration": 24,
    "start_time": "2023-03-12T07:18:43.663Z"
   },
   {
    "duration": 13,
    "start_time": "2023-03-12T07:18:43.690Z"
   },
   {
    "duration": 14,
    "start_time": "2023-03-12T07:18:43.705Z"
   },
   {
    "duration": 56,
    "start_time": "2023-03-12T07:18:43.720Z"
   },
   {
    "duration": 16,
    "start_time": "2023-03-12T07:18:43.780Z"
   },
   {
    "duration": 7,
    "start_time": "2023-03-12T07:18:43.798Z"
   },
   {
    "duration": 18,
    "start_time": "2023-03-12T07:18:43.807Z"
   },
   {
    "duration": 36,
    "start_time": "2023-03-12T07:18:43.827Z"
   },
   {
    "duration": 9,
    "start_time": "2023-03-12T07:18:43.866Z"
   },
   {
    "duration": 39,
    "start_time": "2023-03-12T07:18:43.877Z"
   },
   {
    "duration": 14,
    "start_time": "2023-03-12T07:18:43.918Z"
   },
   {
    "duration": 30,
    "start_time": "2023-03-12T07:18:43.958Z"
   },
   {
    "duration": 12,
    "start_time": "2023-03-12T07:18:43.989Z"
   },
   {
    "duration": 12,
    "start_time": "2023-03-12T07:18:44.002Z"
   },
   {
    "duration": 4,
    "start_time": "2023-03-12T07:18:44.015Z"
   },
   {
    "duration": 44,
    "start_time": "2023-03-12T07:18:44.021Z"
   },
   {
    "duration": 19,
    "start_time": "2023-03-12T07:18:44.067Z"
   }
  ],
  "colab": {
   "collapsed_sections": [
    "E0vqbgi9ay0H",
    "VUC88oWjTJw2"
   ],
   "name": "automatization_template_upd4.ipynb",
   "provenance": []
  },
  "kernelspec": {
   "display_name": "Python 3 (ipykernel)",
   "language": "python",
   "name": "python3"
  },
  "language_info": {
   "codemirror_mode": {
    "name": "ipython",
    "version": 3
   },
   "file_extension": ".py",
   "mimetype": "text/x-python",
   "name": "python",
   "nbconvert_exporter": "python",
   "pygments_lexer": "ipython3",
   "version": "3.9.5"
  },
  "toc": {
   "base_numbering": 1,
   "nav_menu": {
    "height": "215px",
    "width": "403px"
   },
   "number_sections": true,
   "sideBar": true,
   "skip_h1_title": true,
   "title_cell": "Table of Contents",
   "title_sidebar": "Contents",
   "toc_cell": false,
   "toc_position": {
    "height": "calc(100% - 180px)",
    "left": "10px",
    "top": "150px",
    "width": "285.825px"
   },
   "toc_section_display": true,
   "toc_window_display": false
  }
 },
 "nbformat": 4,
 "nbformat_minor": 1
}
